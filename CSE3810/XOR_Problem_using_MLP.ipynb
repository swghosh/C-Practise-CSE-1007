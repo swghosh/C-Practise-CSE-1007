{
 "cells": [
  {
   "cell_type": "markdown",
   "metadata": {},
   "source": [
    "<a target=\"_blank\" href=\"https://colab.research.google.com/github/swghosh/UG-Courses/blob/master/CSE3810/XOR_Problem_using_MLP.ipynb\"><img src=\"https://www.tensorflow.org/images/colab_logo_32px.png\" /><br>Run in Google Colab</a>"
   ]
  },
  {
   "cell_type": "markdown",
   "metadata": {},
   "source": [
    "### Quadrants in a Graph\n",
    "\n",
    "The x-axis and y-axis of a graph divide the graph into four quadrants.\n",
    "\n",
    "![Quadrants](https://i.imgur.com/C0ObYq8.png)"
   ]
  },
  {
   "cell_type": "markdown",
   "metadata": {},
   "source": [
    "# XOR Problem\n",
    "\n",
    "The XOr, or \"exclusive or\", problem is a classic problem in ANN research used to evaluate the power of neural networks in finding optimal non-linear decision boundaries. \n",
    "\n",
    "| region | x | y | t |\n",
    "| --- | --- | --- | --- |\n",
    "| A (Quadrant 3) | -1 | -1 | **-1** |\n",
    "| B (Quadrant 2) | -1 | +1 | **+1** |\n",
    "| C (Quadrant 4) | +1 | -1 | **+1** |\n",
    "| D (Quadrant 1) | +1 | +1 | **-1** |\n",
    "\n",
    "In this notebook, we explore how to use a multi-layer perceptron (trained using back-propagation algorithm) to solve the XOr problem."
   ]
  },
  {
   "cell_type": "code",
   "execution_count": 1,
   "metadata": {},
   "outputs": [],
   "source": [
    "import numpy as np\n",
    "from matplotlib import pyplot as plt\n",
    "from sklearn.neural_network import MLPClassifier"
   ]
  },
  {
   "cell_type": "markdown",
   "metadata": {},
   "source": [
    "Set random seed for deterministic results."
   ]
  },
  {
   "cell_type": "code",
   "execution_count": 2,
   "metadata": {},
   "outputs": [],
   "source": [
    "np.random.seed(27)"
   ]
  },
  {
   "cell_type": "markdown",
   "metadata": {},
   "source": [
    "Generated data points will be in range:\n",
    "- x: `[-q - offset, q + offset]`\n",
    "- y: `[-q - offset, q + offset]`\n",
    "\n",
    "`offset` helps increase the margin of seperation between points. \n",
    "\n",
    "PS: `offset` has been experimentally added for better visualisation purpose only."
   ]
  },
  {
   "cell_type": "code",
   "execution_count": 3,
   "metadata": {},
   "outputs": [],
   "source": [
    "q = 0.6\n",
    "offset = 0.1"
   ]
  },
  {
   "cell_type": "markdown",
   "metadata": {},
   "source": [
    "Generate random X, Y co-ordinates for using with regions A, B, C, D."
   ]
  },
  {
   "cell_type": "code",
   "execution_count": 4,
   "metadata": {},
   "outputs": [],
   "source": [
    "ax, ay = np.random.uniform(size=[100,]), np.random.uniform(size=[100,])\n",
    "bx, by = np.random.uniform(size=[100,]), np.random.uniform(size=[100,])\n",
    "cx, cy = np.random.uniform(size=[100,]), np.random.uniform(size=[100,])\n",
    "dx, dy = np.random.uniform(size=[100,]), np.random.uniform(size=[100,])"
   ]
  },
  {
   "cell_type": "markdown",
   "metadata": {},
   "source": [
    "Region A:\n",
    "- x: `[-q - offset, 0]`\n",
    "- y: `[-q - offset, 0]`"
   ]
  },
  {
   "cell_type": "code",
   "execution_count": 5,
   "metadata": {},
   "outputs": [],
   "source": [
    "ax = (ax * q) - q - offset # [-q, 0]\n",
    "ay = (ay * q) - q - offset # [-q, 0]"
   ]
  },
  {
   "cell_type": "markdown",
   "metadata": {},
   "source": [
    "Region B:\n",
    "- x: `[-q - offset, 0]`\n",
    "- y: `[0, q + offset]`"
   ]
  },
  {
   "cell_type": "code",
   "execution_count": 6,
   "metadata": {},
   "outputs": [],
   "source": [
    "bx = (bx * q) - q - offset # [-q, 0]\n",
    "by = (by * q) + offset     # [0, q]"
   ]
  },
  {
   "cell_type": "markdown",
   "metadata": {},
   "source": [
    "Region C:\n",
    "- x: `[0, q + offset]`\n",
    "- y: `[-q - offset, 0]`"
   ]
  },
  {
   "cell_type": "code",
   "execution_count": 7,
   "metadata": {},
   "outputs": [],
   "source": [
    "cx = (cx * q) + offset     # [0, q]\n",
    "cy = (cy * q) - q - offset # [-q, 0]"
   ]
  },
  {
   "cell_type": "markdown",
   "metadata": {},
   "source": [
    "Region D:\n",
    "- x: `[0, q + offset]`\n",
    "- y: `[0, q + offset]`"
   ]
  },
  {
   "cell_type": "code",
   "execution_count": 8,
   "metadata": {},
   "outputs": [],
   "source": [
    "dx = (dx * q) + offset    # [0, q]\n",
    "dy = (dy * q) + offset    # [0, q]"
   ]
  },
  {
   "cell_type": "markdown",
   "metadata": {},
   "source": [
    "Plot the generated data points."
   ]
  },
  {
   "cell_type": "code",
   "execution_count": 9,
   "metadata": {},
   "outputs": [
    {
     "data": {
      "image/png": "[encoded data removed]",
      "text/plain": [
       "<Figure size 576x576 with 1 Axes>"
      ]
     },
     "metadata": {
      "needs_background": "light"
     },
     "output_type": "display_data"
    }
   ],
   "source": [
    "def plot_data():\n",
    "    plt.plot(ax, ay, 'gx')\n",
    "    plt.plot(bx, by, 'rx')\n",
    "    plt.plot(cx, cy, 'rx')\n",
    "    plt.plot(dx, dy, 'gx')\n",
    "\n",
    "    plt.plot([-(q + 2 * offset), (q + 2 * offset)], [0, 0], 'm-') # X-axis\n",
    "    plt.plot([0, 0], [-(q + 2 * offset), (q + 2 * offset)], 'm-') # Y-axis\n",
    "\n",
    "    plt.xlabel('x')\n",
    "    plt.ylabel('y')\n",
    "\n",
    "plt.figure(figsize=(8, 8))\n",
    "plot_data()\n",
    "plt.title('XOR Problem (non-linearly separable)')\n",
    "plt.show()"
   ]
  },
  {
   "cell_type": "markdown",
   "metadata": {},
   "source": [
    "The data points for regions A, B, C, D."
   ]
  },
  {
   "cell_type": "code",
   "execution_count": 10,
   "metadata": {},
   "outputs": [],
   "source": [
    "A = np.array([ax, ay]).T\n",
    "B = np.array([bx, by]).T\n",
    "C = np.array([cx, cy]).T\n",
    "D = np.array([dx, dy]).T"
   ]
  },
  {
   "cell_type": "markdown",
   "metadata": {},
   "source": [
    "Concatenate data points from regions A, B, C, D into `S`."
   ]
  },
  {
   "cell_type": "code",
   "execution_count": 11,
   "metadata": {},
   "outputs": [
    {
     "name": "stdout",
     "output_type": "stream",
     "text": [
      "(400, 2)\n"
     ]
    },
    {
     "data": {
      "text/plain": [
       "array([[-0.44456715, -0.13435132],\n",
       "       [-0.21124976, -0.46487941],\n",
       "       [-0.25876163, -0.13645582],\n",
       "       [-0.17919808, -0.4136965 ],\n",
       "       [-0.46997154, -0.15776397],\n",
       "       [-0.11232602, -0.241805  ],\n",
       "       [-0.16408339, -0.45941748],\n",
       "       [-0.5741709 , -0.65682799],\n",
       "       [-0.25490341, -0.45785125],\n",
       "       [-0.30211401, -0.36503586],\n",
       "       [-0.16791912, -0.36696203],\n",
       "       [-0.18519237, -0.57392352],\n",
       "       [-0.25044267, -0.13434903],\n",
       "       [-0.17791317, -0.32695771],\n",
       "       [-0.58794649, -0.27577203],\n",
       "       [-0.50465997, -0.26654661],\n",
       "       [-0.47623754, -0.13174276],\n",
       "       [-0.22377218, -0.51299421],\n",
       "       [-0.60936384, -0.63336396],\n",
       "       [-0.59803438, -0.26337255],\n",
       "       [-0.65129854, -0.51148075],\n",
       "       [-0.51689479, -0.50076143],\n",
       "       [-0.23002612, -0.66415216],\n",
       "       [-0.60225629, -0.59050882],\n",
       "       [-0.65761522, -0.56152209],\n",
       "       [-0.2793573 , -0.67910741],\n",
       "       [-0.59141207, -0.32126582],\n",
       "       [-0.34064965, -0.56548952],\n",
       "       [-0.45084181, -0.29878947],\n",
       "       [-0.39185665, -0.32600508],\n",
       "       [-0.5676063 , -0.26318633],\n",
       "       [-0.2646562 , -0.19965954],\n",
       "       [-0.19033903, -0.6320594 ],\n",
       "       [-0.1426643 , -0.60756133],\n",
       "       [-0.25843598, -0.64210126],\n",
       "       [-0.41404766, -0.63280546],\n",
       "       [-0.40426422, -0.43134542],\n",
       "       [-0.34328784, -0.13906652],\n",
       "       [-0.65437782, -0.19554687],\n",
       "       [-0.62951385, -0.17589741],\n",
       "       [-0.1201206 , -0.19291014],\n",
       "       [-0.35000663, -0.60634526],\n",
       "       [-0.64454685, -0.14149828],\n",
       "       [-0.6918223 , -0.15488423],\n",
       "       [-0.19784193, -0.48581533],\n",
       "       [-0.15112726, -0.38133238],\n",
       "       [-0.27724824, -0.35554939],\n",
       "       [-0.46779604, -0.59414421],\n",
       "       [-0.27658366, -0.34536431],\n",
       "       [-0.14601331, -0.11760654],\n",
       "       [-0.52710826, -0.10174733],\n",
       "       [-0.28958809, -0.64340833],\n",
       "       [-0.3878245 , -0.68278103],\n",
       "       [-0.17358053, -0.56207216],\n",
       "       [-0.14566641, -0.29812941],\n",
       "       [-0.40646191, -0.56889235],\n",
       "       [-0.34227162, -0.21176998],\n",
       "       [-0.54143475, -0.53937189],\n",
       "       [-0.10497346, -0.28261032],\n",
       "       [-0.57376122, -0.2494561 ],\n",
       "       [-0.34997795, -0.3533089 ],\n",
       "       [-0.31066003, -0.45702901],\n",
       "       [-0.15341727, -0.28035054],\n",
       "       [-0.62700524, -0.38767801],\n",
       "       [-0.2945072 , -0.24511224],\n",
       "       [-0.24714916, -0.12788166],\n",
       "       [-0.15367878, -0.1268268 ],\n",
       "       [-0.55498724, -0.38270868],\n",
       "       [-0.11464268, -0.67890533],\n",
       "       [-0.51776219, -0.31008761],\n",
       "       [-0.15963982, -0.22782986],\n",
       "       [-0.63720396, -0.17342162],\n",
       "       [-0.29612809, -0.65477491],\n",
       "       [-0.17827429, -0.60433582],\n",
       "       [-0.36338345, -0.37390509],\n",
       "       [-0.41942893, -0.62680129],\n",
       "       [-0.69094725, -0.38250086],\n",
       "       [-0.46407163, -0.37924297],\n",
       "       [-0.57380346, -0.13349133],\n",
       "       [-0.57428927, -0.34296192],\n",
       "       [-0.4626857 , -0.42340648],\n",
       "       [-0.11157819, -0.53562988],\n",
       "       [-0.58353512, -0.30022257],\n",
       "       [-0.19022165, -0.201965  ],\n",
       "       [-0.424213  , -0.57964549],\n",
       "       [-0.58444853, -0.67312312],\n",
       "       [-0.59724135, -0.30638823],\n",
       "       [-0.42368019, -0.69293083],\n",
       "       [-0.56722715, -0.13859143],\n",
       "       [-0.39137799, -0.31663409],\n",
       "       [-0.26730857, -0.40391223],\n",
       "       [-0.12909524, -0.22333916],\n",
       "       [-0.67874975, -0.12250699],\n",
       "       [-0.11031698, -0.24726393],\n",
       "       [-0.25635341, -0.13974571],\n",
       "       [-0.59008463, -0.18335972],\n",
       "       [-0.20178209, -0.41587388],\n",
       "       [-0.39356057, -0.61667453],\n",
       "       [-0.27421062, -0.62437453],\n",
       "       [-0.26338412, -0.65838322],\n",
       "       [-0.46324667,  0.43751864],\n",
       "       [-0.1208076 ,  0.59608062],\n",
       "       [-0.25405236,  0.54090114],\n",
       "       [-0.45013765,  0.22998399],\n",
       "       [-0.10926505,  0.10058828],\n",
       "       [-0.14190157,  0.35012286],\n",
       "       [-0.44681274,  0.21469819],\n",
       "       [-0.47769389,  0.49039799],\n",
       "       [-0.24437137,  0.69680047],\n",
       "       [-0.52519157,  0.44161353],\n",
       "       [-0.16240125,  0.20177495],\n",
       "       [-0.67100455,  0.19149144],\n",
       "       [-0.61780239,  0.11007232],\n",
       "       [-0.37950759,  0.17471895],\n",
       "       [-0.5925217 ,  0.50448576],\n",
       "       [-0.65000826,  0.41210668],\n",
       "       [-0.45511415,  0.52476201],\n",
       "       [-0.39149018,  0.68723374],\n",
       "       [-0.42866459,  0.46046837],\n",
       "       [-0.1560539 ,  0.11887795],\n",
       "       [-0.15139638,  0.16777491],\n",
       "       [-0.59805292,  0.67545757],\n",
       "       [-0.59141118,  0.58743818],\n",
       "       [-0.33105692,  0.11960236],\n",
       "       [-0.16391225,  0.10367298],\n",
       "       [-0.5236994 ,  0.16082076],\n",
       "       [-0.10371447,  0.21640204],\n",
       "       [-0.68572311,  0.3765491 ],\n",
       "       [-0.13944339,  0.52671228],\n",
       "       [-0.27081397,  0.63790063],\n",
       "       [-0.21111754,  0.42752736],\n",
       "       [-0.43800802,  0.64350402],\n",
       "       [-0.17863671,  0.47601072],\n",
       "       [-0.22330662,  0.60972387],\n",
       "       [-0.36638474,  0.59753849],\n",
       "       [-0.18255913,  0.67434452],\n",
       "       [-0.53317875,  0.64196906],\n",
       "       [-0.39139217,  0.629556  ],\n",
       "       [-0.67582237,  0.48938154],\n",
       "       [-0.17685987,  0.62600639],\n",
       "       [-0.40235535,  0.46866613],\n",
       "       [-0.41731458,  0.14262341],\n",
       "       [-0.64057662,  0.35777616],\n",
       "       [-0.2489029 ,  0.19395079],\n",
       "       [-0.45018811,  0.15008405],\n",
       "       [-0.51320495,  0.65482155],\n",
       "       [-0.44479699,  0.38004963],\n",
       "       [-0.15345808,  0.32674133],\n",
       "       [-0.10285242,  0.25218223],\n",
       "       [-0.57786947,  0.49536111],\n",
       "       [-0.45404014,  0.53519336],\n",
       "       [-0.55989598,  0.12253697],\n",
       "       [-0.37235856,  0.65837134],\n",
       "       [-0.27918682,  0.40154138],\n",
       "       [-0.58424069,  0.35916076],\n",
       "       [-0.26511566,  0.4414829 ],\n",
       "       [-0.63611413,  0.51015297],\n",
       "       [-0.53797106,  0.523878  ],\n",
       "       [-0.67028186,  0.20916283],\n",
       "       [-0.6304231 ,  0.38853645],\n",
       "       [-0.50567981,  0.20668425],\n",
       "       [-0.20486113,  0.44930524],\n",
       "       [-0.66536748,  0.20891096],\n",
       "       [-0.69263566,  0.61916541],\n",
       "       [-0.3280915 ,  0.22697964],\n",
       "       [-0.48075309,  0.66537546],\n",
       "       [-0.23215455,  0.31791445],\n",
       "       [-0.3131627 ,  0.52402144],\n",
       "       [-0.14370712,  0.36914344],\n",
       "       [-0.55754886,  0.3497984 ],\n",
       "       [-0.40444069,  0.36567855],\n",
       "       [-0.37683155,  0.31833065],\n",
       "       [-0.42435183,  0.51266248],\n",
       "       [-0.44646801,  0.41237817],\n",
       "       [-0.37442609,  0.65807412],\n",
       "       [-0.3103925 ,  0.54870461],\n",
       "       [-0.19283677,  0.18588129],\n",
       "       [-0.56710317,  0.13935061],\n",
       "       [-0.56886464,  0.15177356],\n",
       "       [-0.45314242,  0.28992341],\n",
       "       [-0.37864908,  0.55424397],\n",
       "       [-0.5292942 ,  0.36747655],\n",
       "       [-0.11741713,  0.59290119],\n",
       "       [-0.49702422,  0.36572661],\n",
       "       [-0.29607049,  0.30042383],\n",
       "       [-0.132181  ,  0.49187541],\n",
       "       [-0.48370264,  0.12247544],\n",
       "       [-0.15565336,  0.41920294],\n",
       "       [-0.42554513,  0.54535612],\n",
       "       [-0.17943548,  0.24157222],\n",
       "       [-0.1744301 ,  0.5504413 ],\n",
       "       [-0.40797428,  0.22231   ],\n",
       "       [-0.31253432,  0.32648048],\n",
       "       [-0.57766031,  0.18673022],\n",
       "       [-0.52572812,  0.37420319],\n",
       "       [-0.41049003,  0.34485339],\n",
       "       [-0.26642951,  0.49079576],\n",
       "       [-0.21585188,  0.66216916],\n",
       "       [-0.51097222,  0.3438976 ],\n",
       "       [-0.60648942,  0.34086077],\n",
       "       [ 0.62384385, -0.20212448],\n",
       "       [ 0.11148694, -0.28552051],\n",
       "       [ 0.61563132, -0.5562141 ],\n",
       "       [ 0.58731657, -0.37990972],\n",
       "       [ 0.28654272, -0.46389094],\n",
       "       [ 0.45977188, -0.33945951],\n",
       "       [ 0.29836655, -0.36001497],\n",
       "       [ 0.13548047, -0.13955443],\n",
       "       [ 0.45338432, -0.13179756],\n",
       "       [ 0.47643421, -0.25439002],\n",
       "       [ 0.21173625, -0.14915463],\n",
       "       [ 0.25499142, -0.48224683],\n",
       "       [ 0.17619831, -0.61570842],\n",
       "       [ 0.31727889, -0.19291171],\n",
       "       [ 0.42363192, -0.5416085 ],\n",
       "       [ 0.62507899, -0.23168994],\n",
       "       [ 0.47995769, -0.69581158],\n",
       "       [ 0.51672986, -0.57533219],\n",
       "       [ 0.31474054, -0.31583503],\n",
       "       [ 0.49810375, -0.20730301],\n",
       "       [ 0.57879114, -0.34880115],\n",
       "       [ 0.33727786, -0.63508481],\n",
       "       [ 0.5248273 , -0.45118938],\n",
       "       [ 0.1875716 , -0.46266342],\n",
       "       [ 0.46515394, -0.11411745],\n",
       "       [ 0.36242234, -0.67780265],\n",
       "       [ 0.37617569, -0.483148  ],\n",
       "       [ 0.58147995, -0.44107966],\n",
       "       [ 0.14239026, -0.35602873],\n",
       "       [ 0.30832154, -0.39971587],\n",
       "       [ 0.33262492, -0.66111837],\n",
       "       [ 0.15337335, -0.51221789],\n",
       "       [ 0.55200083, -0.66014942],\n",
       "       [ 0.41680729, -0.33429931],\n",
       "       [ 0.51514295, -0.31339694],\n",
       "       [ 0.11794705, -0.26190458],\n",
       "       [ 0.23910306, -0.19518922],\n",
       "       [ 0.2818208 , -0.17341086],\n",
       "       [ 0.10025996, -0.16891915],\n",
       "       [ 0.6095489 , -0.12530554],\n",
       "       [ 0.1722212 , -0.20680245],\n",
       "       [ 0.31363086, -0.47111563],\n",
       "       [ 0.39315582, -0.19678489],\n",
       "       [ 0.3305302 , -0.67755177],\n",
       "       [ 0.16836568, -0.49329688],\n",
       "       [ 0.52935329, -0.43794547],\n",
       "       [ 0.29884632, -0.67281156],\n",
       "       [ 0.62214905, -0.6772411 ],\n",
       "       [ 0.14904395, -0.18462407],\n",
       "       [ 0.66948778, -0.45882843],\n",
       "       [ 0.2000011 , -0.3838551 ],\n",
       "       [ 0.14295168, -0.22802743],\n",
       "       [ 0.19523364, -0.14761055],\n",
       "       [ 0.60196416, -0.3616305 ],\n",
       "       [ 0.60303954, -0.29697697],\n",
       "       [ 0.12491257, -0.14254113],\n",
       "       [ 0.11456761, -0.38792494],\n",
       "       [ 0.68107634, -0.10728314],\n",
       "       [ 0.20080661, -0.66311068],\n",
       "       [ 0.31712045, -0.16231498],\n",
       "       [ 0.51528873, -0.50876399],\n",
       "       [ 0.46650623, -0.62449937],\n",
       "       [ 0.62810838, -0.14901545],\n",
       "       [ 0.15021944, -0.69305585],\n",
       "       [ 0.12455107, -0.29592009],\n",
       "       [ 0.6836637 , -0.46442999],\n",
       "       [ 0.10301688, -0.49698383],\n",
       "       [ 0.21042375, -0.5624653 ],\n",
       "       [ 0.34181871, -0.25825908],\n",
       "       [ 0.25138512, -0.41419898],\n",
       "       [ 0.178145  , -0.62451354],\n",
       "       [ 0.52932602, -0.35741581],\n",
       "       [ 0.47491439, -0.44198111],\n",
       "       [ 0.32754885, -0.25463812],\n",
       "       [ 0.44938876, -0.61411398],\n",
       "       [ 0.3509376 , -0.23389951],\n",
       "       [ 0.36172155, -0.24975096],\n",
       "       [ 0.26931977, -0.30170658],\n",
       "       [ 0.23590861, -0.47944543],\n",
       "       [ 0.45358566, -0.64822814],\n",
       "       [ 0.20792051, -0.47868882],\n",
       "       [ 0.14031099, -0.64265731],\n",
       "       [ 0.20974982, -0.22137171],\n",
       "       [ 0.50485608, -0.68955649],\n",
       "       [ 0.29276202, -0.15300632],\n",
       "       [ 0.23195759, -0.50584962],\n",
       "       [ 0.40712199, -0.351582  ],\n",
       "       [ 0.51605195, -0.28639515],\n",
       "       [ 0.25876968, -0.5811041 ],\n",
       "       [ 0.54759334, -0.42398581],\n",
       "       [ 0.3865989 , -0.3651804 ],\n",
       "       [ 0.60141107, -0.30989458],\n",
       "       [ 0.44543369, -0.20232063],\n",
       "       [ 0.23484914, -0.46774312],\n",
       "       [ 0.46788823, -0.54588951],\n",
       "       [ 0.6147644 , -0.40225286],\n",
       "       [ 0.3586289 , -0.65617098],\n",
       "       [ 0.48829546, -0.47971794],\n",
       "       [ 0.1190942 , -0.33118805],\n",
       "       [ 0.40743454, -0.20782825],\n",
       "       [ 0.41052442,  0.31708312],\n",
       "       [ 0.58150654,  0.26508702],\n",
       "       [ 0.29672395,  0.62575858],\n",
       "       [ 0.41272608,  0.16929567],\n",
       "       [ 0.27897154,  0.25430265],\n",
       "       [ 0.30082265,  0.49155849],\n",
       "       [ 0.11922124,  0.23090929],\n",
       "       [ 0.19037484,  0.11534713],\n",
       "       [ 0.52538613,  0.40160904],\n",
       "       [ 0.32001285,  0.23163849],\n",
       "       [ 0.52541199,  0.53980438],\n",
       "       [ 0.16645586,  0.57567043],\n",
       "       [ 0.27726316,  0.40812366],\n",
       "       [ 0.68500612,  0.50911881],\n",
       "       [ 0.10308888,  0.45210448],\n",
       "       [ 0.13322461,  0.38334105],\n",
       "       [ 0.34789372,  0.17703488],\n",
       "       [ 0.6682658 ,  0.43540225],\n",
       "       [ 0.59588946,  0.18335555],\n",
       "       [ 0.37382448,  0.5865747 ],\n",
       "       [ 0.3172156 ,  0.54681752],\n",
       "       [ 0.69214876,  0.40073788],\n",
       "       [ 0.43306345,  0.25862431],\n",
       "       [ 0.49835529,  0.57702322],\n",
       "       [ 0.35010406,  0.39194187],\n",
       "       [ 0.17666597,  0.37463318],\n",
       "       [ 0.69547523,  0.46776449],\n",
       "       [ 0.14049149,  0.37471123],\n",
       "       [ 0.1630272 ,  0.28489775],\n",
       "       [ 0.61296026,  0.1647919 ],\n",
       "       [ 0.17882206,  0.52341566],\n",
       "       [ 0.33807064,  0.42311513],\n",
       "       [ 0.28071328,  0.24968501],\n",
       "       [ 0.34104456,  0.50240941],\n",
       "       [ 0.54330743,  0.45837558],\n",
       "       [ 0.64670121,  0.6821474 ],\n",
       "       [ 0.17236487,  0.33892811],\n",
       "       [ 0.67364162,  0.19890193],\n",
       "       [ 0.32498091,  0.14260251],\n",
       "       [ 0.43130164,  0.27254343],\n",
       "       [ 0.69341226,  0.33996088],\n",
       "       [ 0.19561887,  0.58734423],\n",
       "       [ 0.31606042,  0.34610393],\n",
       "       [ 0.69918125,  0.24374907],\n",
       "       [ 0.32193351,  0.35284671],\n",
       "       [ 0.37106492,  0.41380529],\n",
       "       [ 0.30025534,  0.2682012 ],\n",
       "       [ 0.34582242,  0.39874966],\n",
       "       [ 0.29804778,  0.66435481],\n",
       "       [ 0.14210042,  0.36367629],\n",
       "       [ 0.48341326,  0.31273785],\n",
       "       [ 0.50749844,  0.63864705],\n",
       "       [ 0.11036675,  0.24322284],\n",
       "       [ 0.10205542,  0.3010671 ],\n",
       "       [ 0.11210422,  0.62054878],\n",
       "       [ 0.18430416,  0.53439429],\n",
       "       [ 0.56504744,  0.40532271],\n",
       "       [ 0.27520593,  0.56511382],\n",
       "       [ 0.62661183,  0.34847207],\n",
       "       [ 0.17627192,  0.38224961],\n",
       "       [ 0.13126227,  0.14136844],\n",
       "       [ 0.24026365,  0.47992772],\n",
       "       [ 0.34521167,  0.44643597],\n",
       "       [ 0.63047634,  0.25185267],\n",
       "       [ 0.46080371,  0.39571803],\n",
       "       [ 0.19187648,  0.59319628],\n",
       "       [ 0.36133207,  0.17860504],\n",
       "       [ 0.27576419,  0.56157118],\n",
       "       [ 0.31084232,  0.15052126],\n",
       "       [ 0.69422974,  0.28777146],\n",
       "       [ 0.22334383,  0.45526227],\n",
       "       [ 0.54905674,  0.50807053],\n",
       "       [ 0.63444244,  0.15458746],\n",
       "       [ 0.45085703,  0.65783773],\n",
       "       [ 0.19426592,  0.64632493],\n",
       "       [ 0.50161632,  0.12290038],\n",
       "       [ 0.67750095,  0.53423142],\n",
       "       [ 0.45964814,  0.68946243],\n",
       "       [ 0.39059437,  0.10113086],\n",
       "       [ 0.46271302,  0.36713148],\n",
       "       [ 0.29226162,  0.47613086],\n",
       "       [ 0.420549  ,  0.64097905],\n",
       "       [ 0.1815707 ,  0.40980777],\n",
       "       [ 0.66106928,  0.53211819],\n",
       "       [ 0.66823682,  0.37958568],\n",
       "       [ 0.26004577,  0.13285597],\n",
       "       [ 0.38489772,  0.58651495],\n",
       "       [ 0.32654497,  0.61915778],\n",
       "       [ 0.25405543,  0.68668081],\n",
       "       [ 0.53755242,  0.64340957],\n",
       "       [ 0.15637236,  0.48375415],\n",
       "       [ 0.43854804,  0.35612041],\n",
       "       [ 0.31864907,  0.1584261 ],\n",
       "       [ 0.25835769,  0.61182147],\n",
       "       [ 0.13997625,  0.39910457],\n",
       "       [ 0.15409152,  0.64150955],\n",
       "       [ 0.24457176,  0.42144097],\n",
       "       [ 0.50021831,  0.42468066],\n",
       "       [ 0.21805063,  0.19897682],\n",
       "       [ 0.58003942,  0.50656641]])"
      ]
     },
     "execution_count": 11,
     "metadata": {},
     "output_type": "execute_result"
    }
   ],
   "source": [
    "S = np.concatenate([A, B, C, D])\n",
    "print(S.shape)\n",
    "S"
   ]
  },
  {
   "cell_type": "markdown",
   "metadata": {},
   "source": [
    "Targets / class labels are generated for specific regions based on given XOr problem."
   ]
  },
  {
   "cell_type": "code",
   "execution_count": 12,
   "metadata": {},
   "outputs": [],
   "source": [
    "at = -1\n",
    "bt = +1\n",
    "ct = +1\n",
    "dt = -1\n",
    "\n",
    "alabels = np.array([at] * ax.shape[0])\n",
    "blabels = np.array([bt] * bx.shape[0])\n",
    "clabels = np.array([ct] * cx.shape[0])\n",
    "dlabels = np.array([dt] * dx.shape[0])"
   ]
  },
  {
   "cell_type": "markdown",
   "metadata": {},
   "source": [
    "Class labels for each of the 400 generated data points are stored in `t`."
   ]
  },
  {
   "cell_type": "code",
   "execution_count": 13,
   "metadata": {},
   "outputs": [
    {
     "name": "stdout",
     "output_type": "stream",
     "text": [
      "(400,)\n"
     ]
    },
    {
     "data": {
      "text/plain": [
       "array([-1, -1, -1, -1, -1, -1, -1, -1, -1, -1, -1, -1, -1, -1, -1, -1, -1,\n",
       "       -1, -1, -1, -1, -1, -1, -1, -1, -1, -1, -1, -1, -1, -1, -1, -1, -1,\n",
       "       -1, -1, -1, -1, -1, -1, -1, -1, -1, -1, -1, -1, -1, -1, -1, -1, -1,\n",
       "       -1, -1, -1, -1, -1, -1, -1, -1, -1, -1, -1, -1, -1, -1, -1, -1, -1,\n",
       "       -1, -1, -1, -1, -1, -1, -1, -1, -1, -1, -1, -1, -1, -1, -1, -1, -1,\n",
       "       -1, -1, -1, -1, -1, -1, -1, -1, -1, -1, -1, -1, -1, -1, -1,  1,  1,\n",
       "        1,  1,  1,  1,  1,  1,  1,  1,  1,  1,  1,  1,  1,  1,  1,  1,  1,\n",
       "        1,  1,  1,  1,  1,  1,  1,  1,  1,  1,  1,  1,  1,  1,  1,  1,  1,\n",
       "        1,  1,  1,  1,  1,  1,  1,  1,  1,  1,  1,  1,  1,  1,  1,  1,  1,\n",
       "        1,  1,  1,  1,  1,  1,  1,  1,  1,  1,  1,  1,  1,  1,  1,  1,  1,\n",
       "        1,  1,  1,  1,  1,  1,  1,  1,  1,  1,  1,  1,  1,  1,  1,  1,  1,\n",
       "        1,  1,  1,  1,  1,  1,  1,  1,  1,  1,  1,  1,  1,  1,  1,  1,  1,\n",
       "        1,  1,  1,  1,  1,  1,  1,  1,  1,  1,  1,  1,  1,  1,  1,  1,  1,\n",
       "        1,  1,  1,  1,  1,  1,  1,  1,  1,  1,  1,  1,  1,  1,  1,  1,  1,\n",
       "        1,  1,  1,  1,  1,  1,  1,  1,  1,  1,  1,  1,  1,  1,  1,  1,  1,\n",
       "        1,  1,  1,  1,  1,  1,  1,  1,  1,  1,  1,  1,  1,  1,  1,  1,  1,\n",
       "        1,  1,  1,  1,  1,  1,  1,  1,  1,  1,  1,  1,  1,  1,  1,  1,  1,\n",
       "        1,  1,  1,  1,  1,  1,  1,  1,  1,  1,  1, -1, -1, -1, -1, -1, -1,\n",
       "       -1, -1, -1, -1, -1, -1, -1, -1, -1, -1, -1, -1, -1, -1, -1, -1, -1,\n",
       "       -1, -1, -1, -1, -1, -1, -1, -1, -1, -1, -1, -1, -1, -1, -1, -1, -1,\n",
       "       -1, -1, -1, -1, -1, -1, -1, -1, -1, -1, -1, -1, -1, -1, -1, -1, -1,\n",
       "       -1, -1, -1, -1, -1, -1, -1, -1, -1, -1, -1, -1, -1, -1, -1, -1, -1,\n",
       "       -1, -1, -1, -1, -1, -1, -1, -1, -1, -1, -1, -1, -1, -1, -1, -1, -1,\n",
       "       -1, -1, -1, -1, -1, -1, -1, -1, -1])"
      ]
     },
     "execution_count": 13,
     "metadata": {},
     "output_type": "execute_result"
    }
   ],
   "source": [
    "t = np.concatenate([alabels, blabels, clabels, dlabels])\n",
    "print(t.shape)\n",
    "t"
   ]
  },
  {
   "cell_type": "markdown",
   "metadata": {},
   "source": [
    "Construct a neural network with:\n",
    "- 2 nodes in input layer\n",
    "- 100 nodes in hidden layer (activation used is ReLU)\n",
    "- 1 node in output layer\n",
    "\n",
    "PS: `max_iter` has been experimentally set to 1000, default value is 200, which raises convergence warning for this problem."
   ]
  },
  {
   "cell_type": "code",
   "execution_count": 14,
   "metadata": {},
   "outputs": [
    {
     "data": {
      "text/plain": [
       "MLPClassifier(activation='relu', alpha=0.0001, batch_size='auto', beta_1=0.9,\n",
       "              beta_2=0.999, early_stopping=False, epsilon=1e-08,\n",
       "              hidden_layer_sizes=(100,), learning_rate='constant',\n",
       "              learning_rate_init=0.001, max_fun=15000, max_iter=1000,\n",
       "              momentum=0.9, n_iter_no_change=10, nesterovs_momentum=True,\n",
       "              power_t=0.5, random_state=None, shuffle=True, solver='adam',\n",
       "              tol=0.0001, validation_fraction=0.1, verbose=False,\n",
       "              warm_start=False)"
      ]
     },
     "execution_count": 14,
     "metadata": {},
     "output_type": "execute_result"
    }
   ],
   "source": [
    "nn = MLPClassifier(hidden_layer_sizes=(100,),\n",
    "                   activation='relu',\n",
    "                   max_iter=1000)\n",
    "nn.fit(S, t)"
   ]
  },
  {
   "cell_type": "markdown",
   "metadata": {},
   "source": [
    "Neural network loss at end of training 1000 epochs."
   ]
  },
  {
   "cell_type": "code",
   "execution_count": 15,
   "metadata": {},
   "outputs": [
    {
     "data": {
      "text/plain": [
       "0.026151201667467747"
      ]
     },
     "execution_count": 15,
     "metadata": {},
     "output_type": "execute_result"
    }
   ],
   "source": [
    "nn.best_loss_ "
   ]
  },
  {
   "cell_type": "markdown",
   "metadata": {},
   "source": [
    "Generate a mesh grid for both X, Y co-ordinates over of region:\n",
    "- x: `[-q - offset, q + offset]`\n",
    "- y: `[-q - offset, q + offset]`"
   ]
  },
  {
   "cell_type": "code",
   "execution_count": 16,
   "metadata": {},
   "outputs": [
    {
     "name": "stdout",
     "output_type": "stream",
     "text": [
      "sx_shape:  (250,) \n",
      " sy_shape:  (250,)\n",
      "ux_shape:  (250, 250) \n",
      " uy_shape:  (250, 250)\n"
     ]
    }
   ],
   "source": [
    "sx = sy = np.linspace(-q - offset, q + offset, 250)\n",
    "ux, uy = np.meshgrid(sx, sy)\n",
    "\n",
    "print('sx_shape: ', sx.shape, '\\n', 'sy_shape: ', sy.shape)\n",
    "print('ux_shape: ', ux.shape, '\\n', 'uy_shape: ', uy.shape)"
   ]
  },
  {
   "cell_type": "markdown",
   "metadata": {},
   "source": [
    "Convert the mesh grid matrices into a flat array of 2D points only. \n",
    "(for convenience in use with simple scatter plot and NN prediction)"
   ]
  },
  {
   "cell_type": "code",
   "execution_count": 17,
   "metadata": {},
   "outputs": [],
   "source": [
    "xy = np.vstack([ux.flatten(), uy.flatten()]).T\n",
    "labels = nn.predict(xy)"
   ]
  },
  {
   "cell_type": "markdown",
   "metadata": {},
   "source": [
    "Plot complete input space and visualise decision boundaries of MLP."
   ]
  },
  {
   "cell_type": "code",
   "execution_count": 18,
   "metadata": {},
   "outputs": [
    {
     "data": {
      "image/png": "[encoded data removed]",
      "text/plain": [
       "<Figure size 576x576 with 1 Axes>"
      ]
     },
     "metadata": {
      "needs_background": "light"
     },
     "output_type": "display_data"
    }
   ],
   "source": [
    "plt.figure(figsize=(8, 8))\n",
    "plt.scatter(xy[:, 0], xy[:, 1], c=labels, cmap='cividis')\n",
    "plot_data()\n",
    "plt.title('MLP Decision Boundaries (trained on XOR problem)')\n",
    "plt.show()"
   ]
  }
 ],
 "metadata": {
  "kernelspec": {
   "display_name": "Python 3",
   "language": "python",
   "name": "python3"
  },
  "language_info": {
   "codemirror_mode": {
    "name": "ipython",
    "version": 3
   },
   "file_extension": ".py",
   "mimetype": "text/x-python",
   "name": "python",
   "nbconvert_exporter": "python",
   "pygments_lexer": "ipython3",
   "version": "3.7.7"
  }
 },
 "nbformat": 4,
 "nbformat_minor": 4
}
