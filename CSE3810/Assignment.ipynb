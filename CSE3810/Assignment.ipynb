{
 "cells": [
  {
   "cell_type": "markdown",
   "metadata": {
    "colab_type": "text",
    "id": "aRljJd0WiSl3"
   },
   "source": [
    "# [Artificial Neural Networks - Assignment](https://docs.google.com/viewer?a=v&pid=sites&srcid=ZGVmYXVsdGRvbWFpbnxhcnRpZmljaWFsbmV1cmFsbmV0d29ya3Nhbm58Z3g6MzZmMzBjY2ZmN2EyMmMyYQ)\n"
   ]
  },
  {
   "cell_type": "markdown",
   "metadata": {},
   "source": [
    "## Q1.\n",
    "a. Create the Multi-layer Perceptron Neural Network / Back-propagation network from scratch in Python using the weight and bias updation for solving the classification Problem. Also check the linear Separability for AND and XOR problem using the created Multi-layer Perceptron Neural Network algorithm/ Back propagation network.\n",
    "\n",
    "- **Note:-** Carry out leave-one-out cross-validation (LOOCV) and K-Fold Cross Validationon a simple classification problem. Discuss the best approach amongst the same.\n",
    "\n",
    "b. Try to Modify the weight and bias updation formula by changing or removing the learning rate used in the Multi-layer Perceptron Neural Network / Back-propagation network to check the impact on the overall performance of the network"
   ]
  },
  {
   "cell_type": "code",
   "execution_count": null,
   "metadata": {},
   "outputs": [],
   "source": []
  },
  {
   "cell_type": "markdown",
   "metadata": {},
   "source": [
    "## Q2.\n",
    "\n",
    "Implement the problem mentioned below in Python and also try to modify the created network for the given problem by increasing the number of layers in network to check the impact on the overall performance of the model.\n",
    "\n",
    "**Problem:-**\n",
    "A network is created when we multiple neurons stack together. Let us take an example of a neural network simulating an XNOR function.\n",
    "\n",
    "![XNOR Function NN](data:image/jpeg;base64,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)\n",
    "\n",
    "You can see that the last neuron takes input from two neurons before it. The activation function for all the neurons is given by:\n",
    "\n",
    "$ f(x) = \\left\\{ \\begin{array}{ll}\n",
    "      0 & for & x\\leq 0 \\\\\n",
    "      1 & for & x\\geq 0 \\\\\n",
    "\\end{array}\n",
    "\\right. $\n",
    "\n",
    "Suppose X1 is 0 and X2 is 1, what will be the output for the above neural network? <br/>\n",
    "A) 0 <br/>\n",
    "B) 1"
   ]
  },
  {
   "cell_type": "code",
   "execution_count": 1,
   "metadata": {
    "colab": {},
    "colab_type": "code",
    "id": "AA_FSoBHiw6R"
   },
   "outputs": [],
   "source": [
    "import numpy as np\n",
    "from typeguard import typechecked\n",
    "from typing import List, Callable, Union"
   ]
  },
  {
   "cell_type": "markdown",
   "metadata": {
    "colab_type": "text",
    "id": "ujpzCqnGtgVS"
   },
   "source": [
    "Feed forward network layer."
   ]
  },
  {
   "cell_type": "code",
   "execution_count": 2,
   "metadata": {
    "colab": {},
    "colab_type": "code",
    "id": "HNBIrCqWmsps"
   },
   "outputs": [],
   "source": [
    "class Layer:\n",
    "    @typechecked\n",
    "    def __init__(self, w: np.ndarray, b: np.ndarray, \n",
    "                 activation: Union[Callable, None] = None):\n",
    "        assert w.ndim == 2, \"Weights must be 2D matrix\"\n",
    "        assert b.ndim == 1, \"Biases must be 1D vector\"\n",
    "        assert w.shape[0] == b.shape[0], \"Weights and biases must\"\\\n",
    "            \" conform to same number of neurons\"\n",
    "\n",
    "        self.weights = w\n",
    "        self.biases = b\n",
    "\n",
    "        self.activation = activation\n",
    "    \n",
    "    def get_size(self):\n",
    "        output_size, input_size = self.weights.shape\n",
    "        return input_size, output_size\n",
    "\n",
    "    @typechecked\n",
    "    def forward(self, inputs: np.ndarray) -> np.ndarray:\n",
    "        n_samples, n_features = inputs.shape\n",
    "\n",
    "        assert n_features == self.weights.shape[-1], \"Inputs must be a\"\\\n",
    "            f\" n x {n_features} matrix\"\n",
    "        n_neurons = self.weights.shape[0]\n",
    "\n",
    "        ones = np.ones((n_samples, 1))\n",
    "        \n",
    "        inputs = np.hstack([ones, inputs])\n",
    "        b = np.expand_dims(self.biases, -1)\n",
    "        wb = np.hstack([b, self.weights])\n",
    "\n",
    "        output = inputs @ wb.T\n",
    "        if self.activation is not None:\n",
    "            return self.activation(output)\n",
    "        else:\n",
    "            return output\n",
    "\n",
    "    @typechecked\n",
    "    def __call__(self, inputs: np.ndarray) -> np.ndarray:\n",
    "        return self.forward(inputs)"
   ]
  },
  {
   "cell_type": "markdown",
   "metadata": {
    "colab_type": "text",
    "id": "1SCu5sU-2Ga8"
   },
   "source": [
    "Set random seed for determininstic results."
   ]
  },
  {
   "cell_type": "code",
   "execution_count": 3,
   "metadata": {
    "colab": {},
    "colab_type": "code",
    "id": "aZJmILHP2HF3"
   },
   "outputs": [],
   "source": [
    "np.random.seed(7)"
   ]
  },
  {
   "cell_type": "code",
   "execution_count": 4,
   "metadata": {
    "colab": {},
    "colab_type": "code",
    "id": "_aSW0dNKqN_r"
   },
   "outputs": [],
   "source": [
    "n_samples = 10\n",
    "n_features = 5\n",
    "n_neurons = 3\n",
    "\n",
    "X = np.random.normal(size=(n_samples, n_features))\n",
    "w = np.random.random(size=(n_neurons, n_features))\n",
    "b = np.random.random(size=(n_neurons, ))"
   ]
  },
  {
   "cell_type": "code",
   "execution_count": 5,
   "metadata": {
    "colab": {},
    "colab_type": "code",
    "id": "8YcrRRk3q69G"
   },
   "outputs": [],
   "source": [
    "layer1 = Layer(w, b)\n",
    "layer1_output = layer1(X)\n",
    "assert layer1.get_size() == (n_features, n_neurons)"
   ]
  },
  {
   "cell_type": "code",
   "execution_count": 6,
   "metadata": {
    "colab": {},
    "colab_type": "code",
    "id": "xJfiPTvmrF2r"
   },
   "outputs": [],
   "source": [
    "class Net:\n",
    "    @typechecked\n",
    "    def __init__(self, layers: List[Layer]):\n",
    "        assert len(layers) > 0, \"Number of layers should be atleast one\"\n",
    "        Net.check_shapes(layers)\n",
    "        self.layers = layers\n",
    "    \n",
    "    @staticmethod\n",
    "    def check_shapes(layers: List[Layer]):\n",
    "        prev_layer = layers[0]\n",
    "        for layer in layers[1:]:\n",
    "            _, prev_output = prev_layer.get_size()\n",
    "            this_input, _ = layer.get_size()\n",
    "            \n",
    "            assert prev_output == this_input, \"Layer input size must exactly\"\\\n",
    "                \" match output shape of the preceeding layer\"\n",
    "            \n",
    "            prev_layer = layer\n",
    "    \n",
    "    @typechecked\n",
    "    def forward(self, inputs: np.ndarray):\n",
    "        for layer in self.layers:\n",
    "            inputs = layer.forward(inputs)\n",
    "        return inputs\n",
    "    \n",
    "    @typechecked\n",
    "    def __call__(self, inputs: np.ndarray):\n",
    "        return self.forward(inputs)"
   ]
  },
  {
   "cell_type": "code",
   "execution_count": 7,
   "metadata": {
    "colab": {},
    "colab_type": "code",
    "id": "m_OX-nrHveP-"
   },
   "outputs": [],
   "source": [
    "n_samples = 10\n",
    "n_features = 5\n",
    "n_neurons_layer1 = 3\n",
    "n_neurons_layer2 = 5\n",
    "n_neurons_layer3 = 1\n",
    "\n",
    "X = np.random.normal(size=(n_samples, n_features))\n",
    "\n",
    "w1 = np.random.random(size=(n_neurons_layer1, n_features))\n",
    "b1 = np.random.random(size=(n_neurons_layer1, ))\n",
    "\n",
    "w2 = np.random.random(size=(n_neurons_layer2, n_neurons_layer1))\n",
    "b2 = np.random.random(size=(n_neurons_layer2, ))\n",
    "\n",
    "w3 = np.random.random(size=(n_neurons_layer3, n_neurons_layer2))\n",
    "b3 = np.random.random(size=(n_neurons_layer3, ))"
   ]
  },
  {
   "cell_type": "code",
   "execution_count": 8,
   "metadata": {
    "colab": {},
    "colab_type": "code",
    "id": "5P13SYqU227q"
   },
   "outputs": [],
   "source": [
    "identity = lambda x: x\n",
    "relu = lambda x: np.maximum(x, 0)"
   ]
  },
  {
   "cell_type": "code",
   "execution_count": 9,
   "metadata": {
    "colab": {},
    "colab_type": "code",
    "id": "LVvkgj1q05Du"
   },
   "outputs": [],
   "source": [
    "layer1 = Layer(w1, b1, relu)\n",
    "layer2 = Layer(w2, b2, relu)\n",
    "layer3 = Layer(w3, b3, identity)"
   ]
  },
  {
   "cell_type": "code",
   "execution_count": 10,
   "metadata": {
    "colab": {
     "base_uri": "https://localhost:8080/",
     "height": 187
    },
    "colab_type": "code",
    "id": "7MpIp6Tj0_xn",
    "outputId": "dbcc35db-55fb-4c81-d4d6-af60472ee07d"
   },
   "outputs": [
    {
     "data": {
      "text/plain": [
       "array([[1.00138383],\n",
       "       [5.68665987],\n",
       "       [5.45742112],\n",
       "       [4.30953155],\n",
       "       [5.96850311],\n",
       "       [5.2887552 ],\n",
       "       [6.18013203],\n",
       "       [2.46759842],\n",
       "       [8.05767774],\n",
       "       [5.08341227]])"
      ]
     },
     "execution_count": 10,
     "metadata": {},
     "output_type": "execute_result"
    }
   ],
   "source": [
    "y = layer3(layer2(layer1(X)))\n",
    "y"
   ]
  },
  {
   "cell_type": "code",
   "execution_count": 11,
   "metadata": {
    "colab": {
     "base_uri": "https://localhost:8080/",
     "height": 187
    },
    "colab_type": "code",
    "id": "nIDrEGM25pPU",
    "outputId": "d2c06dd8-f2f1-4a3e-9d52-34e161d02a4f"
   },
   "outputs": [
    {
     "data": {
      "text/plain": [
       "array([[1.00138383],\n",
       "       [5.68665987],\n",
       "       [5.45742112],\n",
       "       [4.30953155],\n",
       "       [5.96850311],\n",
       "       [5.2887552 ],\n",
       "       [6.18013203],\n",
       "       [2.46759842],\n",
       "       [8.05767774],\n",
       "       [5.08341227]])"
      ]
     },
     "execution_count": 11,
     "metadata": {},
     "output_type": "execute_result"
    }
   ],
   "source": [
    "net = Net([layer1, layer2, layer3])\n",
    "assert all(net(X) == y)\n",
    "net(X)"
   ]
  },
  {
   "cell_type": "markdown",
   "metadata": {
    "colab_type": "text",
    "id": "eRbOZq1H4ONm"
   },
   "source": [
    "Step activation function is defined as:\n",
    "$ f(x) = \\left\\{ \\begin{array}{ll}\n",
    "      0 & for & x\\leq 0 \\\\\n",
    "      1 & for & x\\geq 0 \\\\\n",
    "\\end{array}\n",
    "\\right. $"
   ]
  },
  {
   "cell_type": "code",
   "execution_count": 12,
   "metadata": {
    "colab": {},
    "colab_type": "code",
    "id": "KgrE-yA61Xkk"
   },
   "outputs": [],
   "source": [
    "step = lambda x: (x > 0).astype(x.dtype)"
   ]
  },
  {
   "cell_type": "code",
   "execution_count": 31,
   "metadata": {
    "colab": {},
    "colab_type": "code",
    "id": "6LauN1Xx5lkj"
   },
   "outputs": [],
   "source": [
    "x1 = 0\n",
    "x2 = 1\n",
    "\n",
    "w1 = np.array([[-1, -1], [1, 1]])\n",
    "b1 = np.array([0.5, -1.5])\n",
    "\n",
    "w2 = np.array([[1, 1]])\n",
    "b2 = np.array([-0.5])"
   ]
  },
  {
   "cell_type": "code",
   "execution_count": 32,
   "metadata": {
    "colab": {},
    "colab_type": "code",
    "id": "Ky0sJ3Gn6-do"
   },
   "outputs": [],
   "source": [
    "hidden_layer = Layer(w1, b1, step)\n",
    "output_layer = Layer(w2, b2, step)\n",
    "xnor_net = Net([hidden_layer, output_layer])"
   ]
  },
  {
   "cell_type": "code",
   "execution_count": 33,
   "metadata": {
    "colab": {},
    "colab_type": "code",
    "id": "dWSghn7X7PLM"
   },
   "outputs": [],
   "source": [
    "X = np.array([[x1, x2]])"
   ]
  },
  {
   "cell_type": "code",
   "execution_count": 34,
   "metadata": {},
   "outputs": [
    {
     "data": {
      "text/plain": [
       "array([[0., 0.]])"
      ]
     },
     "execution_count": 34,
     "metadata": {},
     "output_type": "execute_result"
    }
   ],
   "source": [
    "h = hidden_layer(X)\n",
    "h"
   ]
  },
  {
   "cell_type": "code",
   "execution_count": 35,
   "metadata": {},
   "outputs": [
    {
     "data": {
      "text/plain": [
       "array([[0.]])"
      ]
     },
     "execution_count": 35,
     "metadata": {},
     "output_type": "execute_result"
    }
   ],
   "source": [
    "t = output_layer(h)\n",
    "t"
   ]
  },
  {
   "cell_type": "code",
   "execution_count": 36,
   "metadata": {
    "colab": {
     "base_uri": "https://localhost:8080/",
     "height": 34
    },
    "colab_type": "code",
    "id": "OpC-4AtX7SkD",
    "outputId": "69855cc0-8315-4f70-e996-44e040bf1bfa"
   },
   "outputs": [
    {
     "data": {
      "text/plain": [
       "array([[0.]])"
      ]
     },
     "execution_count": 36,
     "metadata": {},
     "output_type": "execute_result"
    }
   ],
   "source": [
    "y = xnor_net(X)\n",
    "assert all(y == t)\n",
    "y"
   ]
  },
  {
   "cell_type": "markdown",
   "metadata": {},
   "source": [
    "**XNOR Truth Table**\n",
    "\n",
    "The XNOR function gives high output (1) results if both of the inputs to the function are the same.\n",
    "\n",
    "| $ x1 $ | $ x2 $ | $ x1 $ &#9737; $ x2 $ |\n",
    "| --- | --- | --- |\n",
    "| 0 | 0 | **1** |\n",
    "| 0 | 1 | **0** |\n",
    "| 1 | 0 | **0** |\n",
    "| 1 | 1 | **1** |"
   ]
  },
  {
   "cell_type": "code",
   "execution_count": 37,
   "metadata": {},
   "outputs": [
    {
     "data": {
      "text/plain": [
       "array([[1.],\n",
       "       [0.],\n",
       "       [0.],\n",
       "       [1.]])"
      ]
     },
     "execution_count": 37,
     "metadata": {},
     "output_type": "execute_result"
    }
   ],
   "source": [
    "X = np.array([[0, 0], \n",
    "              [0, 1], \n",
    "              [1, 0], \n",
    "              [1, 1]])\n",
    "xnor_net(X)"
   ]
  },
  {
   "cell_type": "markdown",
   "metadata": {},
   "source": [
    "## Q3.\n",
    "In training a neural network, you notice that the loss does not decrease in the few starting epochs.\n",
    "\n",
    "![learning curve](data:image/png;base64,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)\n",
    "\n",
    "The reasons for this could be:\n",
    "1. The learning is rate is low\n",
    "2. Regularization parameter is high\n",
    "3. Stuck at local minima\n",
    "\n",
    "What according to you are the probable reasons? Justify your answer regarding the same."
   ]
  },
  {
   "cell_type": "code",
   "execution_count": null,
   "metadata": {},
   "outputs": [],
   "source": []
  },
  {
   "cell_type": "markdown",
   "metadata": {},
   "source": [
    "## Q4.\n",
    "Build and train a ConvNet in Python using TensorFlow / keras for an image classification problem and explain each and every line in the comment section.  Also, try to improve the performance of the model by applying various hyper parameter tuning to reduce the overfitting or under fitting problem that might occur."
   ]
  },
  {
   "cell_type": "code",
   "execution_count": null,
   "metadata": {},
   "outputs": [],
   "source": []
  },
  {
   "cell_type": "markdown",
   "metadata": {},
   "source": [
    "## Q5.\n",
    "Write code in Python to perform object detection using CNN. Also, discuss about various performance evaluation parameters to measure the performance of the object detection algorithms."
   ]
  },
  {
   "cell_type": "code",
   "execution_count": null,
   "metadata": {},
   "outputs": [],
   "source": []
  },
  {
   "cell_type": "markdown",
   "metadata": {},
   "source": [
    "## Q6.\n",
    "Build a neural network architecture from scratch in Python and perform the multi-class classification task on data of your choice.\n",
    "\n",
    "Parameters to be considered while creating the neural network from scratch are specified as:\n",
    "1. No of hidden layers : 1 or more\n",
    "2. No. of neurons in hidden layer: 100 \n",
    "3.  Non-linearity in the layer : Relu \n",
    "4. Use more than 1 neuron in the output layer. Use a suitable threshold value.\n",
    "5. Optimisation algorithm : Stochastic Gradient Descent (SGD) \n",
    "6.  Loss function : categorical cross entropy loss \n",
    "**Note :-** Do not use any external python library.\n",
    "\n",
    "Do a random initialization of the weights. And use the learning rate value as 0.1 while conducting the experiment."
   ]
  },
  {
   "cell_type": "code",
   "execution_count": null,
   "metadata": {},
   "outputs": [],
   "source": []
  }
 ],
 "metadata": {
  "colab": {
   "name": "Assignment.ipynb",
   "provenance": []
  },
  "kernelspec": {
   "display_name": "Python 3",
   "language": "python",
   "name": "python3"
  },
  "language_info": {
   "codemirror_mode": {
    "name": "ipython",
    "version": 3
   },
   "file_extension": ".py",
   "mimetype": "text/x-python",
   "name": "python",
   "nbconvert_exporter": "python",
   "pygments_lexer": "ipython3",
   "version": "3.7.7"
  }
 },
 "nbformat": 4,
 "nbformat_minor": 4
}
