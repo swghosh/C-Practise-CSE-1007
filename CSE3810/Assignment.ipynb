{
  "nbformat": 4,
  "nbformat_minor": 0,
  "metadata": {
    "kernelspec": {
      "display_name": "Python 3",
      "language": "python",
      "name": "python3"
    },
    "language_info": {
      "codemirror_mode": {
        "name": "ipython",
        "version": 3
      },
      "file_extension": ".py",
      "mimetype": "text/x-python",
      "name": "python",
      "nbconvert_exporter": "python",
      "pygments_lexer": "ipython3",
      "version": "3.7.7"
    },
    "colab": {
      "name": "Assignment.ipynb",
      "provenance": []
    }
  },
  "cells": [
    {
      "cell_type": "markdown",
      "metadata": {
        "id": "aRljJd0WiSl3",
        "colab_type": "text"
      },
      "source": [
        "# [Artificial Neural Networks - Assignment](https://docs.google.com/viewer?a=v&pid=sites&srcid=ZGVmYXVsdGRvbWFpbnxhcnRpZmljaWFsbmV1cmFsbmV0d29ya3Nhbm58Z3g6MzZmMzBjY2ZmN2EyMmMyYQ)\n"
      ]
    },
    {
      "cell_type": "code",
      "metadata": {
        "id": "AA_FSoBHiw6R",
        "colab_type": "code",
        "colab": {}
      },
      "source": [
        " import numpy as np\n",
        " from typeguard import typechecked\n",
        " from typing import List, Callable, Union"
      ],
      "execution_count": 0,
      "outputs": []
    },
    {
      "cell_type": "markdown",
      "metadata": {
        "id": "ujpzCqnGtgVS",
        "colab_type": "text"
      },
      "source": [
        "Feed forward network layer."
      ]
    },
    {
      "cell_type": "code",
      "metadata": {
        "id": "HNBIrCqWmsps",
        "colab_type": "code",
        "colab": {}
      },
      "source": [
        "class Layer:\n",
        "    @typechecked\n",
        "    def __init__(self, w: np.ndarray, b: np.ndarray, \n",
        "                 activation: Union[Callable, None] = None):\n",
        "        assert w.ndim == 2, \"Weights must be 2D matrix\"\n",
        "        assert b.ndim == 1, \"Biases must be 1D vector\"\n",
        "        assert w.shape[0] == b.shape[0], \"Weights and biases must\"\\\n",
        "            \" conform to same number of neurons\"\n",
        "\n",
        "        self.weights = w\n",
        "        self.biases = b\n",
        "\n",
        "        self.activation = activation\n",
        "    \n",
        "    def get_size(self):\n",
        "        output_size, input_size = self.weights.shape\n",
        "        return input_size, output_size\n",
        "\n",
        "    @typechecked\n",
        "    def forward(self, inputs: np.ndarray) -> np.ndarray:\n",
        "        n_samples, n_features = inputs.shape\n",
        "\n",
        "        assert n_features == self.weights.shape[-1], \"Inputs must be a\"\\\n",
        "            f\" n x {n_features} matrix\"\n",
        "        n_neurons = self.weights.shape[0]\n",
        "\n",
        "        ones = np.ones((n_samples, 1))\n",
        "        \n",
        "        inputs = np.hstack([ones, inputs])\n",
        "        b = np.expand_dims(self.biases, -1)\n",
        "        wb = np.hstack([b, self.weights])\n",
        "\n",
        "        output = inputs @ wb.T\n",
        "        if self.activation is not None:\n",
        "            return self.activation(output)\n",
        "        else:\n",
        "            return output\n",
        "\n",
        "    @typechecked\n",
        "    def __call__(self, inputs: np.ndarray) -> np.ndarray:\n",
        "        return self.forward(inputs)"
      ],
      "execution_count": 0,
      "outputs": []
    },
    {
      "cell_type": "markdown",
      "metadata": {
        "id": "1SCu5sU-2Ga8",
        "colab_type": "text"
      },
      "source": [
        "Set random seed for determininstic results."
      ]
    },
    {
      "cell_type": "code",
      "metadata": {
        "id": "aZJmILHP2HF3",
        "colab_type": "code",
        "colab": {}
      },
      "source": [
        "np.random.seed(7)"
      ],
      "execution_count": 0,
      "outputs": []
    },
    {
      "cell_type": "code",
      "metadata": {
        "id": "_aSW0dNKqN_r",
        "colab_type": "code",
        "colab": {}
      },
      "source": [
        "n_samples = 10\n",
        "n_features = 5\n",
        "n_neurons = 3\n",
        "\n",
        "X = np.random.normal(size=(n_samples, n_features))\n",
        "w = np.random.random(size=(n_neurons, n_features))\n",
        "b = np.random.random(size=(n_neurons, ))"
      ],
      "execution_count": 0,
      "outputs": []
    },
    {
      "cell_type": "code",
      "metadata": {
        "id": "8YcrRRk3q69G",
        "colab_type": "code",
        "colab": {}
      },
      "source": [
        "layer1 = Layer(w, b)\n",
        "layer1_output = layer1(X)\n",
        "assert layer1.get_size() == (n_features, n_neurons)"
      ],
      "execution_count": 0,
      "outputs": []
    },
    {
      "cell_type": "code",
      "metadata": {
        "id": "xJfiPTvmrF2r",
        "colab_type": "code",
        "colab": {}
      },
      "source": [
        "class Net:\n",
        "    @typechecked\n",
        "    def __init__(self, layers: List[Layer]):\n",
        "        assert len(layers) > 0, \"Number of layers should be atleast one\"\n",
        "        Net.check_shapes(layers)\n",
        "        self.layers = layers\n",
        "    \n",
        "    @staticmethod\n",
        "    def check_shapes(layers: List[Layer]):\n",
        "        prev_layer = layers[0]\n",
        "        for layer in layers[1:]:\n",
        "            _, prev_output = prev_layer.get_size()\n",
        "            this_input, _ = layer.get_size()\n",
        "            \n",
        "            assert prev_output == this_input, \"Layer input size must exactly\"\\\n",
        "                \" match output shape of the preceeding layer\"\n",
        "            \n",
        "            prev_layer = layer\n",
        "    \n",
        "    @typechecked\n",
        "    def forward(self, inputs: np.ndarray):\n",
        "        for layer in self.layers:\n",
        "            inputs = layer.forward(inputs)\n",
        "        return inputs\n",
        "    \n",
        "    @typechecked\n",
        "    def __call__(self, inputs: np.ndarray):\n",
        "        return self.forward(inputs)"
      ],
      "execution_count": 0,
      "outputs": []
    },
    {
      "cell_type": "code",
      "metadata": {
        "id": "m_OX-nrHveP-",
        "colab_type": "code",
        "colab": {}
      },
      "source": [
        "n_samples = 10\n",
        "n_features = 5\n",
        "n_neurons_layer1 = 3\n",
        "n_neurons_layer2 = 5\n",
        "n_neurons_layer3 = 1\n",
        "\n",
        "X = np.random.normal(size=(n_samples, n_features))\n",
        "\n",
        "w1 = np.random.random(size=(n_neurons_layer1, n_features))\n",
        "b1 = np.random.random(size=(n_neurons_layer1, ))\n",
        "\n",
        "w2 = np.random.random(size=(n_neurons_layer2, n_neurons_layer1))\n",
        "b2 = np.random.random(size=(n_neurons_layer2, ))\n",
        "\n",
        "w3 = np.random.random(size=(n_neurons_layer3, n_neurons_layer2))\n",
        "b3 = np.random.random(size=(n_neurons_layer3, ))"
      ],
      "execution_count": 0,
      "outputs": []
    },
    {
      "cell_type": "code",
      "metadata": {
        "id": "5P13SYqU227q",
        "colab_type": "code",
        "colab": {}
      },
      "source": [
        "identity = lambda x: x\n",
        "relu = lambda x: np.maximum(x, 0)"
      ],
      "execution_count": 0,
      "outputs": []
    },
    {
      "cell_type": "code",
      "metadata": {
        "id": "LVvkgj1q05Du",
        "colab_type": "code",
        "colab": {}
      },
      "source": [
        "layer1 = Layer(w1, b1, relu)\n",
        "layer2 = Layer(w2, b2, relu)\n",
        "layer3 = Layer(w3, b3, identity)"
      ],
      "execution_count": 0,
      "outputs": []
    },
    {
      "cell_type": "code",
      "metadata": {
        "id": "7MpIp6Tj0_xn",
        "colab_type": "code",
        "colab": {
          "base_uri": "https://localhost:8080/",
          "height": 187
        },
        "outputId": "dbcc35db-55fb-4c81-d4d6-af60472ee07d"
      },
      "source": [
        "y = layer3(layer2(layer1(X)))\n",
        "y"
      ],
      "execution_count": 89,
      "outputs": [
        {
          "output_type": "execute_result",
          "data": {
            "text/plain": [
              "array([[4.9671351 ],\n",
              "       [3.08797328],\n",
              "       [2.0310967 ],\n",
              "       [1.72664332],\n",
              "       [8.48181661],\n",
              "       [1.59383825],\n",
              "       [1.47846404],\n",
              "       [5.1861727 ],\n",
              "       [3.24786588],\n",
              "       [4.86342837]])"
            ]
          },
          "metadata": {
            "tags": []
          },
          "execution_count": 89
        }
      ]
    },
    {
      "cell_type": "code",
      "metadata": {
        "id": "nIDrEGM25pPU",
        "colab_type": "code",
        "colab": {
          "base_uri": "https://localhost:8080/",
          "height": 187
        },
        "outputId": "d2c06dd8-f2f1-4a3e-9d52-34e161d02a4f"
      },
      "source": [
        "net = Net([layer1, layer2, layer3])\n",
        "assert all(net(X) == y)\n",
        "net(X)"
      ],
      "execution_count": 91,
      "outputs": [
        {
          "output_type": "execute_result",
          "data": {
            "text/plain": [
              "array([[4.9671351 ],\n",
              "       [3.08797328],\n",
              "       [2.0310967 ],\n",
              "       [1.72664332],\n",
              "       [8.48181661],\n",
              "       [1.59383825],\n",
              "       [1.47846404],\n",
              "       [5.1861727 ],\n",
              "       [3.24786588],\n",
              "       [4.86342837]])"
            ]
          },
          "metadata": {
            "tags": []
          },
          "execution_count": 91
        }
      ]
    },
    {
      "cell_type": "markdown",
      "metadata": {
        "id": "eRbOZq1H4ONm",
        "colab_type": "text"
      },
      "source": [
        "Step activation function is defined as:\n",
        "$ f(x) = \\left\\{ \\begin{array}{ll}\n",
        "      0 & for & x\\leq 0 \\\\\n",
        "      1 & for & x\\geq 0 \\\\\n",
        "\\end{array}\n",
        "\\right. $"
      ]
    },
    {
      "cell_type": "code",
      "metadata": {
        "id": "KgrE-yA61Xkk",
        "colab_type": "code",
        "colab": {}
      },
      "source": [
        "step = lambda x: (x > 0).astype(x.dtype)"
      ],
      "execution_count": 0,
      "outputs": []
    },
    {
      "cell_type": "code",
      "metadata": {
        "id": "6LauN1Xx5lkj",
        "colab_type": "code",
        "colab": {}
      },
      "source": [
        "x1 = 0\n",
        "x2 = 1\n",
        "\n",
        "w1 = np.array([[-1, -1], [1, 1]])\n",
        "b1 = np.array([0.5, -0.5])\n",
        "\n",
        "w2 = np.array([[1, 1]])\n",
        "b2 = np.array([-0.5])"
      ],
      "execution_count": 0,
      "outputs": []
    },
    {
      "cell_type": "code",
      "metadata": {
        "id": "Ky0sJ3Gn6-do",
        "colab_type": "code",
        "colab": {}
      },
      "source": [
        "hidden_layer = Layer(w1, b1, step)\n",
        "output_layer = Layer(w2, b2, step)\n",
        "net = Net([hidden_layer, output_layer])"
      ],
      "execution_count": 0,
      "outputs": []
    },
    {
      "cell_type": "code",
      "metadata": {
        "id": "dWSghn7X7PLM",
        "colab_type": "code",
        "colab": {}
      },
      "source": [
        "X = np.array([[x1, x2]])"
      ],
      "execution_count": 0,
      "outputs": []
    },
    {
      "cell_type": "code",
      "metadata": {
        "id": "OpC-4AtX7SkD",
        "colab_type": "code",
        "colab": {
          "base_uri": "https://localhost:8080/",
          "height": 34
        },
        "outputId": "69855cc0-8315-4f70-e996-44e040bf1bfa"
      },
      "source": [
        "y = net(X)\n",
        "y"
      ],
      "execution_count": 96,
      "outputs": [
        {
          "output_type": "execute_result",
          "data": {
            "text/plain": [
              "array([[1.]])"
            ]
          },
          "metadata": {
            "tags": []
          },
          "execution_count": 96
        }
      ]
    },
    {
      "cell_type": "code",
      "metadata": {
        "id": "hQnaJYxU7xo-",
        "colab_type": "code",
        "colab": {}
      },
      "source": [
        ""
      ],
      "execution_count": 0,
      "outputs": []
    }
  ]
}