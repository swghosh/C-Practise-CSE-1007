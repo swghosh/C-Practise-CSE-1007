{
  "nbformat": 4,
  "nbformat_minor": 0,
  "metadata": {
    "kernelspec": {
      "display_name": "Python 3",
      "language": "python",
      "name": "python3"
    },
    "language_info": {
      "codemirror_mode": {
        "name": "ipython",
        "version": 3
      },
      "file_extension": ".py",
      "mimetype": "text/x-python",
      "name": "python",
      "nbconvert_exporter": "python",
      "pygments_lexer": "ipython3",
      "version": "3.7.7"
    },
    "colab": {
      "name": "Assignment.ipynb",
      "provenance": []
    }
  },
  "cells": [
    {
      "cell_type": "markdown",
      "metadata": {
        "id": "aRljJd0WiSl3",
        "colab_type": "text"
      },
      "source": [
        "# [Artificial Neural Networks - Assignment](https://docs.google.com/viewer?a=v&pid=sites&srcid=ZGVmYXVsdGRvbWFpbnxhcnRpZmljaWFsbmV1cmFsbmV0d29ya3Nhbm58Z3g6MzZmMzBjY2ZmN2EyMmMyYQ)\n"
      ]
    },
    {
      "cell_type": "code",
      "metadata": {
        "id": "AA_FSoBHiw6R",
        "colab_type": "code",
        "colab": {}
      },
      "source": [
        " import numpy as np\n",
        " from typeguard import typechecked"
      ],
      "execution_count": 0,
      "outputs": []
    },
    {
      "cell_type": "code",
      "metadata": {
        "id": "7SP-pftxrBbs",
        "colab_type": "code",
        "colab": {}
      },
      "source": [
        "np.random.seed(7)"
      ],
      "execution_count": 0,
      "outputs": []
    },
    {
      "cell_type": "markdown",
      "metadata": {
        "id": "ujpzCqnGtgVS",
        "colab_type": "text"
      },
      "source": [
        "Feed forward network layer."
      ]
    },
    {
      "cell_type": "code",
      "metadata": {
        "id": "HNBIrCqWmsps",
        "colab_type": "code",
        "colab": {}
      },
      "source": [
        "class Layer:\n",
        "    @typechecked\n",
        "    def __init__(self, w: np.ndarray, b: np.ndarray):\n",
        "        assert w.ndim == 2, \"Weights must be 2D matrix\"\n",
        "        assert b.ndim == 1, \"Biases must be 1D vector\"\n",
        "        assert w.shape[0] == b.shape[0], \"Weights and biases must conform to same number of neurons\"\n",
        "\n",
        "        self.weights = w\n",
        "        self.biases = b\n",
        "    \n",
        "    @typechecked\n",
        "    def forward(self, inputs: np.ndarray):\n",
        "        n_samples, n_features = inputs.shape\n",
        "\n",
        "        assert n_features == self.weights.shape[-1], f\"Inputs must be a n x {n_features} matrix\"\n",
        "        n_neurons = self.weights.shape[0]\n",
        "\n",
        "        ones = np.ones((n_samples, 1))\n",
        "        \n",
        "        inputs = np.hstack([ones, inputs])\n",
        "        b = np.expand_dims(self.biases, -1)\n",
        "        wb = np.hstack([b, self.weights])\n",
        "\n",
        "        return inputs @ wb.T\n",
        "\n",
        "    @typechecked\n",
        "    def __call__(self, inputs: np.ndarray):\n",
        "        return self.forward(inputs)"
      ],
      "execution_count": 0,
      "outputs": []
    },
    {
      "cell_type": "code",
      "metadata": {
        "id": "_aSW0dNKqN_r",
        "colab_type": "code",
        "colab": {}
      },
      "source": [
        "n_samples = 10\n",
        "n_features = 5\n",
        "n_neurons = 3\n",
        "\n",
        "X = np.random.normal(size=(n_samples, n_features))\n",
        "w = np.random.random(size=(n_neurons, n_features))\n",
        "b = np.random.random(size=(n_neurons, ))"
      ],
      "execution_count": 0,
      "outputs": []
    },
    {
      "cell_type": "code",
      "metadata": {
        "id": "8YcrRRk3q69G",
        "colab_type": "code",
        "colab": {
          "base_uri": "https://localhost:8080/",
          "height": 187
        },
        "outputId": "09096720-6614-4687-c109-77bd67fff018"
      },
      "source": [
        "layer1 = Layer(w, b)\n",
        "layer1_output = layer1(X)\n",
        "layer1_output"
      ],
      "execution_count": 32,
      "outputs": [
        {
          "output_type": "execute_result",
          "data": {
            "text/plain": [
              "array([[-1.86199155,  0.26733668, -1.53772839],\n",
              "       [-0.94492776, -0.66858245, -1.37822161],\n",
              "       [ 0.9332047 ,  0.35355173,  0.00921703],\n",
              "       [-0.85217121, -0.78757467, -2.16998455],\n",
              "       [ 0.5765853 ,  0.30607399, -0.18037371],\n",
              "       [ 2.88109552,  1.87358277,  2.5146734 ],\n",
              "       [-0.27700811, -1.43366377, -2.15834071],\n",
              "       [-0.02274692, -0.49209186, -1.10296179],\n",
              "       [ 1.41765207, -0.14780351, -0.55384369],\n",
              "       [-0.84720987,  0.05718093, -0.98812587]])"
            ]
          },
          "metadata": {
            "tags": []
          },
          "execution_count": 32
        }
      ]
    },
    {
      "cell_type": "code",
      "metadata": {
        "id": "xJfiPTvmrF2r",
        "colab_type": "code",
        "colab": {}
      },
      "source": [
        ""
      ],
      "execution_count": 0,
      "outputs": []
    }
  ]
}