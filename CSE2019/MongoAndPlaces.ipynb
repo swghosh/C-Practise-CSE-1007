{
 "cells": [
  {
   "cell_type": "code",
   "execution_count": 1,
   "metadata": {},
   "outputs": [],
   "source": [
    "DATABASE_URL = ''"
   ]
  },
  {
   "cell_type": "code",
   "execution_count": 2,
   "metadata": {},
   "outputs": [
    {
     "name": "stdout",
     "output_type": "stream",
     "text": [
      "Requirement already satisfied: pymongo in ./.local/lib/python3.5/site-packages\n",
      "Requirement already satisfied: dnspython in ./.local/lib/python3.5/site-packages\n"
     ]
    }
   ],
   "source": [
    "!pip3 install pymongo\n",
    "!pip3 install dnspython"
   ]
  },
  {
   "cell_type": "code",
   "execution_count": 29,
   "metadata": {},
   "outputs": [],
   "source": [
    "from pymongo import MongoClient\n",
    "from pprint import pprint"
   ]
  },
  {
   "cell_type": "code",
   "execution_count": 30,
   "metadata": {},
   "outputs": [],
   "source": [
    "client = MongoClient(DATABASE_URL)\n",
    "db = client['pointerest']"
   ]
  },
  {
   "cell_type": "code",
   "execution_count": 31,
   "metadata": {},
   "outputs": [
    {
     "name": "stdout",
     "output_type": "stream",
     "text": [
      "{'_id': ObjectId('5c97d771af78ad858f554209'),\n",
      " 'name': 'GD Goenka Public School',\n",
      " 'point': {'latitude': 28.5285, 'longitude': 77.1549},\n",
      " 'tags': ['school',\n",
      "          'high school',\n",
      "          'hostel',\n",
      "          'boarding',\n",
      "          'playground',\n",
      "          'library']}\n",
      "{'_id': ObjectId('5c97da0caf78ad858f55420a'),\n",
      " 'name': 'GD Goenka University',\n",
      " 'point': {'latitude': 28.2648, 'longitude': 77.0645},\n",
      " 'tags': ['hostel', 'library', 'labs', 'food court', 'differeent courses']}\n",
      "{'_id': ObjectId('5c97da0caf78ad858f55420b'),\n",
      " 'name': 'GD Goenka Signature School',\n",
      " 'point': {'latitude': 28.2685, 'longitude': 77.0679},\n",
      " 'tags': ['school',\n",
      "          'high school',\n",
      "          'hostel',\n",
      "          'boarding',\n",
      "          'food court',\n",
      "          'playground',\n",
      "          'library']}\n",
      "{'_id': ObjectId('5c97da0caf78ad858f55420c'),\n",
      " 'name': 'YOUTH HOUSE CAFE',\n",
      " 'point': {'latitude': 28.2662, 'longitude': 77.0677},\n",
      " 'tags': ['food place', 'cafe', 'veg', 'non-veg', 'hookah']}\n",
      "{'_id': ObjectId('5c97da0caf78ad858f55420d'),\n",
      " 'name': 'Shivam Chilled Point',\n",
      " 'point': {'latitude': 28.2491, 'longitude': 77.0703},\n",
      " 'tags': ['food place',\n",
      "          'snacks',\n",
      "          'chole bhature',\n",
      "          'samosa',\n",
      "          'ice cream',\n",
      "          'reasonable']}\n",
      "{'_id': ObjectId('5c9935deafff8a1ed084338f'),\n",
      " 'name': 'My Home',\n",
      " 'point': {'latitude': 21.3, 'longitude': 12.1},\n",
      " 'tags': ['chill']}\n",
      "{'_id': ObjectId('5c9a6c4ce5655a0d3f53decd'),\n",
      " 'name': 'My Home 2',\n",
      " 'point': {'latitude': 21.3, 'longitude': 12.1},\n",
      " 'tags': ['chill']}\n"
     ]
    }
   ],
   "source": [
    "for document in db['places'].find():\n",
    "    pprint(document)"
   ]
  },
  {
   "cell_type": "code",
   "execution_count": 43,
   "metadata": {},
   "outputs": [],
   "source": [
    "new_doc = {\n",
    "    'name': \"My Home 2\",\n",
    "    'point': {'latitude': 21.3, 'longitude': 12.1},\n",
    "    'tags': ['chill']\n",
    "}\n",
    "new_doc_2 = {\n",
    "    'name': \"My Home 3\",\n",
    "    'point': {'latitude': 21.3, 'longitude': 12.1},\n",
    "    'tags': ['chill']\n",
    "}"
   ]
  },
  {
   "cell_type": "code",
   "execution_count": 44,
   "metadata": {},
   "outputs": [
    {
     "data": {
      "text/plain": [
       "[{'name': 'My Home 2',\n",
       "  'point': {'latitude': 21.3, 'longitude': 12.1},\n",
       "  'tags': ['chill']},\n",
       " {'name': 'My Home 3',\n",
       "  'point': {'latitude': 21.3, 'longitude': 12.1},\n",
       "  'tags': ['chill']}]"
      ]
     },
     "execution_count": 44,
     "metadata": {},
     "output_type": "execute_result"
    }
   ],
   "source": [
    "docs_array = [new_doc, new_doc_2]\n",
    "docs_array"
   ]
  },
  {
   "cell_type": "code",
   "execution_count": 45,
   "metadata": {},
   "outputs": [],
   "source": [
    "for doc in docs_array:\n",
    "    db['places'].insert_one(doc)"
   ]
  },
  {
   "cell_type": "code",
   "execution_count": null,
   "metadata": {},
   "outputs": [],
   "source": []
  }
 ],
 "metadata": {
  "kernelspec": {
   "display_name": "Python 3",
   "language": "python",
   "name": "python3"
  },
  "language_info": {
   "codemirror_mode": {
    "name": "ipython",
    "version": 3
   },
   "file_extension": ".py",
   "mimetype": "text/x-python",
   "name": "python",
   "nbconvert_exporter": "python",
   "pygments_lexer": "ipython3",
   "version": "3.5.3"
  }
 },
 "nbformat": 4,
 "nbformat_minor": 2
}
