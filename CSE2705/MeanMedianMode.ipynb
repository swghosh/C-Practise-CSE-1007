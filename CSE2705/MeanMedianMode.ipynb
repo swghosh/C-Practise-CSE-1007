{
  "nbformat": 4,
  "nbformat_minor": 0,
  "metadata": {
    "colab": {
      "name": "MVA Lab 1.ipynb",
      "provenance": [],
      "collapsed_sections": []
    },
    "kernelspec": {
      "name": "python3",
      "display_name": "Python 3"
    }
  },
  "cells": [
    {
      "cell_type": "code",
      "metadata": {
        "id": "4PPS6rFEXhmT",
        "colab_type": "code",
        "colab": {}
      },
      "source": [
        "import numpy as np\n",
        "from scipy import stats"
      ],
      "execution_count": 0,
      "outputs": []
    },
    {
      "cell_type": "markdown",
      "metadata": {
        "id": "5J9KxQcjaBUE",
        "colab_type": "text"
      },
      "source": [
        "Sampling 20 random values from a standard normal distribution."
      ]
    },
    {
      "cell_type": "code",
      "metadata": {
        "id": "qWQ_uS4eXz3G",
        "colab_type": "code",
        "colab": {
          "base_uri": "https://localhost:8080/",
          "height": 221
        },
        "outputId": "102a776d-332f-45df-8f19-3abdcaa4ea53"
      },
      "source": [
        "x = np.random.randn(30)\n",
        "print('Data from Standard Normal Distribution: \\n', x)\n",
        "print('Mean: ', np.mean(x))\n",
        "print('Median: ', np.median(x))\n",
        "print('Mode: ', stats.mode(x).mode)"
      ],
      "execution_count": 16,
      "outputs": [
        {
          "output_type": "stream",
          "text": [
            "Data from Standard Normal Distribution: \n",
            " [-6.93104335e-01  6.76435394e-01  1.02699513e+00 -1.08208890e+00\n",
            "  3.22162587e+00  3.83828859e-01  1.07848689e+00  1.35609281e+00\n",
            "  5.50050894e-01  1.49758471e+00  2.38549461e-03 -1.41784468e+00\n",
            " -8.32385001e-01 -7.77729424e-01  7.19472649e-01  5.38790490e-01\n",
            "  1.07133099e-01 -1.36790271e-01 -9.00008554e-01  2.51158798e-01\n",
            "  1.10636575e+00 -8.22384953e-01  5.37993966e-01 -2.72069716e-01\n",
            " -5.32116187e-01 -1.38056940e+00 -2.55050144e-01 -1.76660395e+00\n",
            "  6.42761390e-01 -1.13752272e+00]\n",
            "Mean:  0.056363131967107225\n",
            "Median:  0.054759297009697235\n",
            "Mode:  [-1.76660395]\n"
          ],
          "name": "stdout"
        }
      ]
    },
    {
      "cell_type": "markdown",
      "metadata": {
        "id": "1gv4sjuraPtt",
        "colab_type": "text"
      },
      "source": [
        "Introducing a few outliers manually into our data."
      ]
    },
    {
      "cell_type": "code",
      "metadata": {
        "id": "tm21O0bqZJJF",
        "colab_type": "code",
        "colab": {
          "base_uri": "https://localhost:8080/",
          "height": 170
        },
        "outputId": "519cc461-cd50-47e2-ee1e-252c99c15c16"
      },
      "source": [
        "outliers = np.array([100, 20])\n",
        "x_with_outliers = np.concatenate((x, outliers))\n",
        "print('Data after adding outliers: \\n', x_with_outliers)"
      ],
      "execution_count": 25,
      "outputs": [
        {
          "output_type": "stream",
          "text": [
            "Data after adding outliers: \n",
            " [-6.93104335e-01  6.76435394e-01  1.02699513e+00 -1.08208890e+00\n",
            "  3.22162587e+00  3.83828859e-01  1.07848689e+00  1.35609281e+00\n",
            "  5.50050894e-01  1.49758471e+00  2.38549461e-03 -1.41784468e+00\n",
            " -8.32385001e-01 -7.77729424e-01  7.19472649e-01  5.38790490e-01\n",
            "  1.07133099e-01 -1.36790271e-01 -9.00008554e-01  2.51158798e-01\n",
            "  1.10636575e+00 -8.22384953e-01  5.37993966e-01 -2.72069716e-01\n",
            " -5.32116187e-01 -1.38056940e+00 -2.55050144e-01 -1.76660395e+00\n",
            "  6.42761390e-01 -1.13752272e+00  1.00000000e+02  2.00000000e+01]\n"
          ],
          "name": "stdout"
        }
      ]
    },
    {
      "cell_type": "code",
      "metadata": {
        "id": "X3C2rgfMabF-",
        "colab_type": "code",
        "colab": {
          "base_uri": "https://localhost:8080/",
          "height": 68
        },
        "outputId": "25f1c194-17a1-4217-b2f3-ffff5bb4a7c6"
      },
      "source": [
        "print('Mean: ', np.mean(x_with_outliers))\n",
        "print('Median: ', np.median(x_with_outliers))\n",
        "print('Mode: ', stats.mode(x_with_outliers))"
      ],
      "execution_count": 26,
      "outputs": [
        {
          "output_type": "stream",
          "text": [
            "Mean:  3.8028404362191632\n",
            "Median:  0.17914594891822258\n",
            "Mode:  ModeResult(mode=array([-1.76660395]), count=array([1]))\n"
          ],
          "name": "stdout"
        }
      ]
    },
    {
      "cell_type": "markdown",
      "metadata": {
        "id": "fow6IYf1eUEC",
        "colab_type": "text"
      },
      "source": [
        "*Inference*: By introducing the outliers, the value of mean has a drastic change but median and mode is not affected much."
      ]
    }
  ]
}