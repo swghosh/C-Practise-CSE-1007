{
 "cells": [
  {
   "cell_type": "code",
   "execution_count": 1,
   "metadata": {},
   "outputs": [],
   "source": [
    "import numpy as np"
   ]
  },
  {
   "cell_type": "code",
   "execution_count": 2,
   "metadata": {},
   "outputs": [],
   "source": [
    "# Data points\n",
    "p1 = (2, 10)\n",
    "p2 = (2, 5)\n",
    "p3 = (8, 4)\n",
    "m1 = (5, 8)\n",
    "m2 = (7, 5)\n",
    "m3 = (6, 4)\n",
    "n1 = (1, 2)\n",
    "n2 = (4, 9)"
   ]
  },
  {
   "cell_type": "code",
   "execution_count": 3,
   "metadata": {},
   "outputs": [
    {
     "data": {
      "text/plain": [
       "array([[ 2., 10.],\n",
       "       [ 2.,  5.],\n",
       "       [ 8.,  4.],\n",
       "       [ 5.,  8.],\n",
       "       [ 7.,  5.],\n",
       "       [ 6.,  4.],\n",
       "       [ 1.,  2.],\n",
       "       [ 4.,  9.]], dtype=float32)"
      ]
     },
     "execution_count": 3,
     "metadata": {},
     "output_type": "execute_result"
    }
   ],
   "source": [
    "X = np.array([p1, p2, p3, m1, m2, m3, n1, n2], \n",
    "             dtype=np.float32)\n",
    "X"
   ]
  },
  {
   "cell_type": "code",
   "execution_count": 4,
   "metadata": {},
   "outputs": [
    {
     "data": {
      "text/plain": [
       "array([[ 2., 10.],\n",
       "       [ 5.,  8.],\n",
       "       [ 1.,  2.]], dtype=float32)"
      ]
     },
     "execution_count": 4,
     "metadata": {},
     "output_type": "execute_result"
    }
   ],
   "source": [
    "k = 3\n",
    "\n",
    "c1 = p1\n",
    "c2 = m1\n",
    "c3 = n1\n",
    "\n",
    "init_centroids = np.array([c1, c2, c3], \n",
    "                          dtype=np.float32)\n",
    "init_centroids"
   ]
  },
  {
   "cell_type": "code",
   "execution_count": 5,
   "metadata": {},
   "outputs": [],
   "source": [
    "centroids = init_centroids"
   ]
  },
  {
   "cell_type": "code",
   "execution_count": 6,
   "metadata": {},
   "outputs": [
    {
     "data": {
      "text/plain": [
       "array([[[ 0.,  0.],\n",
       "        [ 0., 25.],\n",
       "        [36., 36.],\n",
       "        [ 9.,  4.],\n",
       "        [25., 25.],\n",
       "        [16., 36.],\n",
       "        [ 1., 64.],\n",
       "        [ 4.,  1.]],\n",
       "\n",
       "       [[ 9.,  4.],\n",
       "        [ 9.,  9.],\n",
       "        [ 9., 16.],\n",
       "        [ 0.,  0.],\n",
       "        [ 4.,  9.],\n",
       "        [ 1., 16.],\n",
       "        [16., 36.],\n",
       "        [ 1.,  1.]],\n",
       "\n",
       "       [[ 1., 64.],\n",
       "        [ 1.,  9.],\n",
       "        [49.,  4.],\n",
       "        [16., 36.],\n",
       "        [36.,  9.],\n",
       "        [25.,  4.],\n",
       "        [ 0.,  0.],\n",
       "        [ 9., 49.]]], dtype=float32)"
      ]
     },
     "execution_count": 6,
     "metadata": {},
     "output_type": "execute_result"
    }
   ],
   "source": [
    "squared_diffs = np.square(X[None, :, :] - init_centroids[:, None, :])\n",
    "squared_diffs"
   ]
  },
  {
   "cell_type": "code",
   "execution_count": 7,
   "metadata": {},
   "outputs": [
    {
     "data": {
      "text/plain": [
       "array([[0.       , 5.       , 8.485281 , 3.6055512, 7.071068 , 7.2111025,\n",
       "        8.062258 , 2.236068 ],\n",
       "       [3.6055512, 4.2426405, 5.       , 0.       , 3.6055512, 4.1231055,\n",
       "        7.2111025, 1.4142135],\n",
       "       [8.062258 , 3.1622777, 7.28011  , 7.2111025, 6.708204 , 5.3851647,\n",
       "        0.       , 7.615773 ]], dtype=float32)"
      ]
     },
     "execution_count": 7,
     "metadata": {},
     "output_type": "execute_result"
    }
   ],
   "source": [
    "euclidean_dists = np.sum(squared_diffs, axis=-1) ** 0.5\n",
    "euclidean_dists"
   ]
  },
  {
   "cell_type": "code",
   "execution_count": 8,
   "metadata": {},
   "outputs": [
    {
     "data": {
      "text/plain": [
       "array([0, 2, 1, 1, 1, 1, 2, 1])"
      ]
     },
     "execution_count": 8,
     "metadata": {},
     "output_type": "execute_result"
    }
   ],
   "source": [
    "clusters = np.argmin(euclidean_dists, axis=0)\n",
    "clusters"
   ]
  },
  {
   "cell_type": "code",
   "execution_count": 9,
   "metadata": {},
   "outputs": [
    {
     "data": {
      "text/plain": [
       "array([[ True, False, False, False, False, False, False, False],\n",
       "       [False, False,  True,  True,  True,  True, False,  True],\n",
       "       [False,  True, False, False, False, False,  True, False]])"
      ]
     },
     "execution_count": 9,
     "metadata": {},
     "output_type": "execute_result"
    }
   ],
   "source": [
    "selector = np.arange(k)[:, None] == clusters[None, :]\n",
    "selector"
   ]
  },
  {
   "cell_type": "code",
   "execution_count": 10,
   "metadata": {},
   "outputs": [
    {
     "data": {
      "text/plain": [
       "array([[ 2. , 10. ],\n",
       "       [ 6. ,  6. ],\n",
       "       [ 1.5,  3.5]], dtype=float32)"
      ]
     },
     "execution_count": 10,
     "metadata": {},
     "output_type": "execute_result"
    }
   ],
   "source": [
    "means = np.zeros_like(centroids, dtype=np.float32)\n",
    "for c in range(k):\n",
    "    select = selector[c]\n",
    "    points = X[select]\n",
    "    mean_points = np.mean(points, axis=0)\n",
    "    means[c] = mean_points\n",
    "centroids = means\n",
    "centroids"
   ]
  },
  {
   "cell_type": "code",
   "execution_count": 11,
   "metadata": {},
   "outputs": [],
   "source": [
    "from matplotlib import pyplot as plt"
   ]
  },
  {
   "cell_type": "code",
   "execution_count": 12,
   "metadata": {},
   "outputs": [
    {
     "data": {
      "image/png": "[encoded data removed]",
      "text/plain": [
       "<Figure size 576x576 with 1 Axes>"
      ]
     },
     "metadata": {
      "needs_background": "light"
     },
     "output_type": "display_data"
    }
   ],
   "source": [
    "plt.figure(figsize=(8, 8))\n",
    "plt.scatter(X[:, 0], X[:, 1], s=100, c=clusters)\n",
    "plt.plot(centroids[:, 0], centroids[:, 1], '*', markersize=10)\n",
    "plt.xlabel('x1')\n",
    "plt.ylabel('x2')\n",
    "plt.show()"
   ]
  },
  {
   "cell_type": "code",
   "execution_count": null,
   "metadata": {},
   "outputs": [],
   "source": []
  }
 ],
 "metadata": {
  "kernelspec": {
   "display_name": "Python 3",
   "language": "python",
   "name": "python3"
  },
  "language_info": {
   "codemirror_mode": {
    "name": "ipython",
    "version": 3
   },
   "file_extension": ".py",
   "mimetype": "text/x-python",
   "name": "python",
   "nbconvert_exporter": "python",
   "pygments_lexer": "ipython3",
   "version": "3.7.7"
  }
 },
 "nbformat": 4,
 "nbformat_minor": 4
}
