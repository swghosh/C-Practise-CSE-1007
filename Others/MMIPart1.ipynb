{
 "cells": [
  {
   "cell_type": "markdown",
   "metadata": {},
   "source": [
    "# Machine to Machine Interaction\n",
    "\n",
    "using **HTTP** server side\n",
    "\n",
    "## Part I"
   ]
  },
  {
   "cell_type": "markdown",
   "metadata": {},
   "source": [
    "HTTP Verbs\n",
    "1. POST\n",
    "2. GET\n",
    "3. PUT\n",
    "4. DELETE\n",
    "5. PATCH\n",
    "\n",
    "Web servers are able to respond to either of the different HTTP requests."
   ]
  },
  {
   "cell_type": "markdown",
   "metadata": {},
   "source": [
    "**Example application** (web service) capable of doing the following:\n",
    "1. Store some configuration data (as JSON) from a device\n",
    "2. Fetch the last stored device configuration data (as formatted HTML) "
   ]
  },
  {
   "cell_type": "code",
   "execution_count": 1,
   "metadata": {},
   "outputs": [],
   "source": [
    "import json"
   ]
  },
  {
   "cell_type": "code",
   "execution_count": 2,
   "metadata": {},
   "outputs": [],
   "source": [
    "configJsonFileName = 'dconfig.json'"
   ]
  },
  {
   "cell_type": "code",
   "execution_count": 3,
   "metadata": {},
   "outputs": [],
   "source": [
    "'''\n",
    "    Python WSGI sample application to \n",
    "    store some configuration data from\n",
    "    POST requests and allow fetching the \n",
    "    last configuration data through\n",
    "    GET request as formatted HTML\n",
    "    \n",
    "    Sample configuration JSON:\n",
    "    {\n",
    "        \"firmware\": \"any_firmware_1.0.1\",\n",
    "        \"time\": \"2018-10-07T20:20:08.775393\",\n",
    "        \"state\": \"ON\",\n",
    "        \"username\": \"pranav.s\",\n",
    "        \"uptime\": 1000\n",
    "    }\n",
    "'''\n",
    "def application(environ, startResponse):\n",
    "    # path of the requested resource\n",
    "    path = environ['PATH_INFO']\n",
    "    # for our scenario we'll only consider two paths valid\n",
    "    status = '200 OK'\n",
    "    \n",
    "    if path == '/store':\n",
    "        contentLength = int(environ['CONTENT_LENGTH'])\n",
    "        postInputAsFile = environ['wsgi.input']\n",
    "        rawPostBody = postInputAsFile.read(contentLength)\n",
    "        body = rawPostBody.decode('utf-8')\n",
    "        saveConfig(body, configJsonFileName)\n",
    "        body = 'Saved Configuration Data'\n",
    "    elif path == '/fetch':\n",
    "        configJson = loadConfig(configJsonFileName)\n",
    "        body = generatePage(configJson)\n",
    "    else:\n",
    "        status = '404 Not Found'\n",
    "        body = 'Resource Not Found'\n",
    "        \n",
    "    headers = [\n",
    "        ('Content-Type', 'text/html'),\n",
    "        ('Content-Length', str(len(body)))\n",
    "    ]\n",
    "    startResponse(status, headers)\n",
    "    return [body.encode('utf-8')]"
   ]
  },
  {
   "cell_type": "code",
   "execution_count": 4,
   "metadata": {},
   "outputs": [],
   "source": [
    "def saveConfig(configJson, fileName):\n",
    "    with open(fileName, 'w') as jsonFile:\n",
    "        print(configJson, end = '', file = jsonFile)\n",
    "def loadConfig(fileName):\n",
    "    with open(fileName, 'r') as jsonFile:\n",
    "        configJson = jsonFile.read()\n",
    "    return configJson"
   ]
  },
  {
   "cell_type": "code",
   "execution_count": 5,
   "metadata": {},
   "outputs": [],
   "source": [
    "def generatePage(configJson):\n",
    "    configData = json.loads(configJson)\n",
    "    # expects all attributes to exist (firmware, time, state, error, username, uptime)\n",
    "    style = '''\n",
    "        <style>\n",
    "            th {\n",
    "                border-bottom: 2px solid black;\n",
    "                text-transform: uppercase;\n",
    "                width: 200px;\n",
    "                padding: 10px;\n",
    "            }\n",
    "            td {\n",
    "                width: 200px;\n",
    "                padding: 10px;\n",
    "            }\n",
    "            tr:nth-child(even) {\n",
    "                background-color: gray;\n",
    "                color: white;\n",
    "            }\n",
    "            tr:nth-child(odd) {\n",
    "                width: 40px;\n",
    "                background-color: lightgrey;\n",
    "            }\n",
    "        </style>\n",
    "    '''\n",
    "    html = '''\n",
    "        <h1>Last Configuration Data</h1>\n",
    "        <table>\n",
    "            <tr> <th> Attribute </th> <th> Value </th> </tr>\n",
    "            <tr> <td> Firmware Id </td> <td> {firmware} </td> </tr>\n",
    "            <tr> <td> Date and Time </td> <td> {time} </td> </tr>\n",
    "            <tr> <td> Current State </td> <td> {state} </td> </tr>\n",
    "            <tr> <td> Username </td> <td> {username} </td> </tr>\n",
    "            <tr> <td> Uptime </td> <td> {uptime} </td> </tr>\n",
    "        </table>\n",
    "    '''\n",
    "    \n",
    "    return style + html.format(firmware = configData['firmware'],\n",
    "                       time = configData['time'],\n",
    "                       state = configData['state'],\n",
    "                       username = configData['username'],\n",
    "                       uptime = configData['uptime']\n",
    "                      )"
   ]
  },
  {
   "cell_type": "code",
   "execution_count": 6,
   "metadata": {},
   "outputs": [
    {
     "name": "stdout",
     "output_type": "stream",
     "text": [
      "starting server on port 8080\n"
     ]
    },
    {
     "name": "stderr",
     "output_type": "stream",
     "text": [
      "127.0.0.1 - - [07/Oct/2018 23:00:52] \"POST /store HTTP/1.1\" 200 24\n",
      "127.0.0.1 - - [07/Oct/2018 23:00:52] \"GET /fetch HTTP/1.1\" 200 1025\n",
      "127.0.0.1 - - [07/Oct/2018 23:01:01] \"POST /store HTTP/1.1\" 200 24\n",
      "127.0.0.1 - - [07/Oct/2018 23:01:01] \"GET /fetch HTTP/1.1\" 200 1025\n",
      "127.0.0.1 - - [07/Oct/2018 23:01:06] \"GET /fetch HTTP/1.1\" 200 1025\n",
      "127.0.0.1 - - [07/Oct/2018 23:01:18] \"GET /fetch HTTP/1.1\" 200 1025\n",
      "127.0.0.1 - - [07/Oct/2018 23:01:27] \"GET /fetch HTTP/1.1\" 200 1025\n",
      "127.0.0.1 - - [07/Oct/2018 23:01:36] \"GET /fetch HTTP/1.1\" 200 1025\n",
      "127.0.0.1 - - [07/Oct/2018 23:01:41] \"GET /fetch HTTP/1.1\" 200 1025\n"
     ]
    },
    {
     "name": "stdout",
     "output_type": "stream",
     "text": [
      "stopping server\n"
     ]
    }
   ],
   "source": [
    "port = 8080\n",
    "host = ''\n",
    "from wsgiref.simple_server import make_server\n",
    "try:\n",
    "    httpd = make_server(host, port, application)\n",
    "    print('starting server on port', port)\n",
    "    httpd.serve_forever()\n",
    "except KeyboardInterrupt:\n",
    "    print('stopping server')"
   ]
  },
  {
   "cell_type": "markdown",
   "metadata": {},
   "source": [
    "@selfLink: https://github.com/swghosh/UG-Courses/blob/master/Others/MMIPart1.ipynb"
   ]
  }
 ],
 "metadata": {
  "kernelspec": {
   "display_name": "Python 3",
   "language": "python",
   "name": "python3"
  },
  "language_info": {
   "codemirror_mode": {
    "name": "ipython",
    "version": 3
   },
   "file_extension": ".py",
   "mimetype": "text/x-python",
   "name": "python",
   "nbconvert_exporter": "python",
   "pygments_lexer": "ipython3",
   "version": "3.6.5"
  }
 },
 "nbformat": 4,
 "nbformat_minor": 2
}
