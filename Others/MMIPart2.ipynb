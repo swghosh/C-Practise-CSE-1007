{
 "cells": [
  {
   "cell_type": "markdown",
   "metadata": {},
   "source": [
    "# Machine to Machine Interaction\n",
    "\n",
    "using **HTTP** client side\n",
    "\n",
    "ability to make http requests to a particular custom server (part 1 server) such that json is POSTed and configuration data can be GET on an html table\n",
    "\n",
    "## Part II"
   ]
  },
  {
   "cell_type": "markdown",
   "metadata": {},
   "source": [
    "Web client will generate a configuration data. A python dictionary with sample data. It will be converted to json and sent as a part of the http request."
   ]
  },
  {
   "cell_type": "code",
   "execution_count": 1,
   "metadata": {},
   "outputs": [],
   "source": [
    "from urllib import request"
   ]
  },
  {
   "cell_type": "code",
   "execution_count": 2,
   "metadata": {},
   "outputs": [],
   "source": [
    "from datetime import datetime\n",
    "from random import random\n",
    "import os"
   ]
  },
  {
   "cell_type": "markdown",
   "metadata": {},
   "source": [
    "Construct the dictionary of configuration data."
   ]
  },
  {
   "cell_type": "code",
   "execution_count": 3,
   "metadata": {},
   "outputs": [],
   "source": [
    "firmware = os.name + '/1.0'\n",
    "time = str(datetime.isoformat(datetime.now()))\n",
    "username = 'pranav.s'\n",
    "state = 'ON'\n",
    "uptime = int(random() * 10000)\n",
    "\n",
    "configuration = {\n",
    "    \"firmware\": firmware,\n",
    "    \"time\": time,\n",
    "    \"state\": state,\n",
    "    \"username\": username,\n",
    "    \"uptime\": uptime\n",
    "}"
   ]
  },
  {
   "cell_type": "code",
   "execution_count": 4,
   "metadata": {},
   "outputs": [],
   "source": [
    "import json"
   ]
  },
  {
   "cell_type": "markdown",
   "metadata": {},
   "source": [
    "Convert the dictionary to json string."
   ]
  },
  {
   "cell_type": "code",
   "execution_count": 5,
   "metadata": {},
   "outputs": [],
   "source": [
    "configJson = json.dumps(configuration)"
   ]
  },
  {
   "cell_type": "markdown",
   "metadata": {},
   "source": [
    "Url that will be POST requested with the json."
   ]
  },
  {
   "cell_type": "code",
   "execution_count": 6,
   "metadata": {},
   "outputs": [],
   "source": [
    "url = 'http://127.0.0.1:8080/store'"
   ]
  },
  {
   "cell_type": "markdown",
   "metadata": {},
   "source": [
    "Construct an object of http request and send the request to the server."
   ]
  },
  {
   "cell_type": "code",
   "execution_count": 7,
   "metadata": {},
   "outputs": [],
   "source": [
    "req = request.Request(url, configJson.encode('utf-8'))"
   ]
  },
  {
   "cell_type": "code",
   "execution_count": 8,
   "metadata": {},
   "outputs": [
    {
     "name": "stdout",
     "output_type": "stream",
     "text": [
      "Saved Configuration Data\n"
     ]
    }
   ],
   "source": [
    "with request.urlopen(req) as res:\n",
    "    rawResponse = res.read()\n",
    "    print(rawResponse.decode('utf-8'))"
   ]
  },
  {
   "cell_type": "markdown",
   "metadata": {},
   "source": [
    "The html page that will display available configuration data in tabular form."
   ]
  },
  {
   "cell_type": "code",
   "execution_count": 14,
   "metadata": {},
   "outputs": [
    {
     "data": {
      "text/html": [
       "<iframe src=\"http://localhost:8080/fetch\" width=\"500px\" height=\"350px\"></iframe>"
      ],
      "text/plain": [
       "<IPython.core.display.HTML object>"
      ]
     },
     "metadata": {},
     "output_type": "display_data"
    }
   ],
   "source": [
    "%%html\n",
    "<iframe src=\"http://localhost:8080/fetch\" width=\"500px\" height=\"350px\"></iframe>"
   ]
  },
  {
   "cell_type": "markdown",
   "metadata": {},
   "source": [
    "## Further Reading\n",
    "1. https://internetofthingsagenda.techtarget.com/definition/machine-to-machine-M2M\n",
    "2. https://www.webopedia.com/TERM/C/client_server_architecture.html\n",
    "3. http://wsgi.tutorial.codepoint.net\n",
    "4. http://wsgi.tutorial.codepoint.net/application-interface\n",
    "5. http://wsgi.tutorial.codepoint.net/parsing-the-request-post\n",
    "6. http://wsgi.tutorial.codepoint.net/parsing-the-request-get\n",
    "7. http://wsgi.tutorial.codepoint.net/environment-dictionary\n",
    "8. http://docs.gunicorn.org/en/latest/install.html\n",
    "9. https://docs.python.org/3.7/library/wsgiref.html\n",
    "10. http://flask.pocoo.org/docs/1.0/\n",
    "11. https://docs.python.org/3.7/library/urllib.request.html#module-urllib.request\n",
    "12. https://www.mulesoft.com/resources/api/what-is-an-api\n",
    "13. https://medium.com/@sagar.mane006/understanding-rest-representational-state-transfer-85256b9424aa\n",
    "14. https://searchmicroservices.techtarget.com/definition/REST-representational-state-transfer\n",
    "15. https://docs.python.org/3.7/howto/sockets.html\n",
    "16. https://cloud.google.com/appengine/docs/standard/python3/\n",
    "17. https://codelabs.developers.google.com/codelabs/cloud-app-engine-python/#0\n"
   ]
  },
  {
   "cell_type": "markdown",
   "metadata": {},
   "source": [
    "@selfLink: https://github.com/swghosh/UG-Courses/blob/master/Others/MMIPart2.ipynb"
   ]
  }
 ],
 "metadata": {
  "kernelspec": {
   "display_name": "Python 3",
   "language": "python",
   "name": "python3"
  },
  "language_info": {
   "codemirror_mode": {
    "name": "ipython",
    "version": 3
   },
   "file_extension": ".py",
   "mimetype": "text/x-python",
   "name": "python",
   "nbconvert_exporter": "python",
   "pygments_lexer": "ipython3",
   "version": "3.6.7"
  }
 },
 "nbformat": 4,
 "nbformat_minor": 2
}
