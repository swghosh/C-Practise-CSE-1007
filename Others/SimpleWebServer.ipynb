{
 "cells": [
  {
   "cell_type": "markdown",
   "metadata": {},
   "source": [
    "# Simple Web Server"
   ]
  },
  {
   "cell_type": "markdown",
   "metadata": {},
   "source": [
    "### What is a web server?\n",
    "A web server is a server software that is capable of handling HTTP requests to produce HTTP responses. HTTP (hyper text transfer protocol) is a widely used protocol across the information to transfer web pages, documents (and other files) across different networks.\n",
    "\n",
    "eg. Apache, nginx, a web server that you implement programatically"
   ]
  },
  {
   "cell_type": "markdown",
   "metadata": {},
   "source": [
    "### Who is a web client?\n",
    "A web client is a software application that is capable of sending HTTP requests to any web server and parsing the received response in a user-presentable form. (abstracting away the internal process)\n",
    "\n",
    "eg. Chrome, Firefox, a web client that you implement programatically"
   ]
  },
  {
   "cell_type": "markdown",
   "metadata": {},
   "source": [
    "### Static vs Dynamic Content\n",
    "A web server is capable of sending static as well as dynamic responses.\n",
    "\n",
    "Static documents residing inside the **webroot** of a web server computer are served as-is by the web server as a part of the HTTP response to its clients.\n",
    "\n",
    "Dynamic resourcses are those resources which require some amount of programmatic parsing / scripting at the time of the receiving of the request such that each client request receives a response which is dynamically generated."
   ]
  },
  {
   "cell_type": "markdown",
   "metadata": {},
   "source": [
    "** A simple web server to serve static files. **"
   ]
  },
  {
   "cell_type": "code",
   "execution_count": 1,
   "metadata": {},
   "outputs": [],
   "source": [
    "import http.server\n",
    "import socketserver"
   ]
  },
  {
   "cell_type": "markdown",
   "metadata": {},
   "source": [
    "TCP Port where the web server will run."
   ]
  },
  {
   "cell_type": "code",
   "execution_count": 2,
   "metadata": {},
   "outputs": [],
   "source": [
    "bindPort = 8080\n",
    "bindHost = ''"
   ]
  },
  {
   "cell_type": "code",
   "execution_count": 3,
   "metadata": {},
   "outputs": [],
   "source": [
    "handler = http.server.SimpleHTTPRequestHandler"
   ]
  },
  {
   "cell_type": "markdown",
   "metadata": {},
   "source": [
    "**Webroot** for the web server."
   ]
  },
  {
   "cell_type": "code",
   "execution_count": 4,
   "metadata": {},
   "outputs": [
    {
     "name": "stdout",
     "output_type": "stream",
     "text": [
      "/Users/swg/Desktop\r\n"
     ]
    }
   ],
   "source": [
    "!pwd"
   ]
  },
  {
   "cell_type": "code",
   "execution_count": 5,
   "metadata": {},
   "outputs": [
    {
     "name": "stdout",
     "output_type": "stream",
     "text": [
      "http server running at port 8080\n"
     ]
    },
    {
     "name": "stderr",
     "output_type": "stream",
     "text": [
      "127.0.0.1 - - [07/Oct/2018 16:54:19] \"GET / HTTP/1.1\" 200 -\n",
      "127.0.0.1 - - [07/Oct/2018 16:54:23] \"GET /Raspberry%20Pi/ HTTP/1.1\" 200 -\n",
      "127.0.0.1 - - [07/Oct/2018 16:54:23] code 404, message File not found\n",
      "127.0.0.1 - - [07/Oct/2018 16:54:23] \"GET /favicon.ico HTTP/1.1\" 404 -\n",
      "127.0.0.1 - - [07/Oct/2018 16:54:25] \"GET /Raspberry%20Pi/gpio.js HTTP/1.1\" 200 -\n",
      "127.0.0.1 - - [07/Oct/2018 16:54:25] code 404, message File not found\n",
      "127.0.0.1 - - [07/Oct/2018 16:54:25] \"GET /favicon.ico HTTP/1.1\" 404 -\n",
      "127.0.0.1 - - [07/Oct/2018 16:54:33] \"GET /Raspberry%20Pi/Circuit%20Diagram%201.PNG HTTP/1.1\" 200 -\n",
      "127.0.0.1 - - [07/Oct/2018 16:54:33] code 404, message File not found\n",
      "127.0.0.1 - - [07/Oct/2018 16:54:33] \"GET /favicon.ico HTTP/1.1\" 404 -\n"
     ]
    },
    {
     "name": "stdout",
     "output_type": "stream",
     "text": [
      "interrupted, server stopped.\n"
     ]
    }
   ],
   "source": [
    "try:\n",
    "    with socketserver.TCPServer((bindHost, bindPort), handler) as httpd:\n",
    "        print('http server running at port', bindPort)\n",
    "        httpd.serve_forever()\n",
    "except KeyboardInterrupt:\n",
    "    print('interrupted, server stopped.')"
   ]
  },
  {
   "cell_type": "markdown",
   "metadata": {},
   "source": [
    "#### Sample HTTP request\n",
    "\n",
    "`GET /resourcename HTTP/1.1\n",
    "Host: subdomain.anyhost.tld\n",
    "Accept: */*\n",
    "User-Agent: Mozilla/5.0\n",
    "`"
   ]
  },
  {
   "cell_type": "markdown",
   "metadata": {},
   "source": [
    "#### Sample HTTP Response\n",
    "\n",
    "`HTTP/1.1 200 OK\n",
    "Content-Type: text/plain\n",
    "Content-Length: 27\n",
    "Date: Fri, 12 Oct 2018 11:52:08 GMT\n",
    "Connection: close`\n",
    "\n",
    "`This is a sample text file.`"
   ]
  },
  {
   "cell_type": "markdown",
   "metadata": {},
   "source": [
    "Same web server directly from the shell."
   ]
  },
  {
   "cell_type": "code",
   "execution_count": 7,
   "metadata": {},
   "outputs": [
    {
     "name": "stdout",
     "output_type": "stream",
     "text": [
      "Serving HTTP on 0.0.0.0 port 8080 (http://0.0.0.0:8080/) ...\n",
      "127.0.0.1 - - [07/Oct/2018 17:41:41] \"GET / HTTP/1.1\" 200 -\n",
      "127.0.0.1 - - [07/Oct/2018 17:41:45] \"GET /Using%20Twitter%20Data%20for%20Research%20%28Plus%29.pdf HTTP/1.1\" 200 -\n",
      "127.0.0.1 - - [07/Oct/2018 17:41:46] code 404, message File not found\n",
      "127.0.0.1 - - [07/Oct/2018 17:41:46] \"GET /favicon.ico HTTP/1.1\" 404 -\n",
      "^C\n",
      "\n",
      "Keyboard interrupt received, exiting.\n"
     ]
    }
   ],
   "source": [
    "!python -m http.server 8080"
   ]
  },
  {
   "cell_type": "markdown",
   "metadata": {},
   "source": [
    "# WSGI (Web Server Gateway Interface)"
   ]
  },
  {
   "cell_type": "markdown",
   "metadata": {},
   "source": [
    "## What is WSGI?\n",
    "WSGI stands for Web Server Gateway Interface. Most commonly used web servers support this interface. It is not a framework or a module or a python package or an API, it is a specification for an interface that allows us to create wsgi applications that will run on any web server which supports that spec. It is also considered as an an improvement of its predecessor, Common Gateway Interface (CGI).\n",
    "\n",
    "eg of servers supporting WSGI: Apache (with mod_wsgi), gunicorn, uWsgi, wsgiref, etc."
   ]
  },
  {
   "cell_type": "markdown",
   "metadata": {},
   "source": [
    "## WSGI Applications\n",
    "Applications that conform to the WSGI specification and possess a callable function which is used to generate HTTP response (for web clients) on the basis of HTTP requests are called wsgi applications.\n",
    "\n",
    "**Spec**:\n",
    "1. must accept two arguments (a dictionary containing CGI like variables, a callback function that is used to trigger the HTTP response headers)\n",
    "2. must return the HTTP body of the response to the server as an iterator of strings"
   ]
  },
  {
   "cell_type": "code",
   "execution_count": 1,
   "metadata": {},
   "outputs": [],
   "source": [
    "def application(environ, startResponse):\n",
    "    status = '200 OK'\n",
    "    body = 'Hello World!'\n",
    "    headers = [\n",
    "        ('Content-Type', 'text/plain'),\n",
    "        ('Content-Length', str(len(body)))\n",
    "    ]\n",
    "    startResponse(status, headers)\n",
    "    data = body.encode('utf-8')\n",
    "    return [data]"
   ]
  },
  {
   "cell_type": "code",
   "execution_count": 2,
   "metadata": {},
   "outputs": [],
   "source": [
    "bindPort = 8080\n",
    "bindHost = ''"
   ]
  },
  {
   "cell_type": "markdown",
   "metadata": {},
   "source": [
    "Run the wsgi application using the python built-in wgsiref server."
   ]
  },
  {
   "cell_type": "code",
   "execution_count": 3,
   "metadata": {},
   "outputs": [],
   "source": [
    "from wsgiref.simple_server import make_server"
   ]
  },
  {
   "cell_type": "code",
   "execution_count": 4,
   "metadata": {},
   "outputs": [],
   "source": [
    "httpd = make_server(bindHost, bindPort, application)"
   ]
  },
  {
   "cell_type": "code",
   "execution_count": 5,
   "metadata": {},
   "outputs": [
    {
     "name": "stderr",
     "output_type": "stream",
     "text": [
      "127.0.0.1 - - [07/Oct/2018 18:49:26] \"GET /myresource HTTP/1.1\" 200 12\n",
      "127.0.0.1 - - [07/Oct/2018 18:49:34] \"GET / HTTP/1.1\" 200 12\n",
      "127.0.0.1 - - [07/Oct/2018 18:49:39] \"GET / HTTP/1.1\" 200 12\n",
      "127.0.0.1 - - [07/Oct/2018 18:49:42] \"GET / HTTP/1.1\" 200 12\n",
      "127.0.0.1 - - [07/Oct/2018 18:49:47] \"GET / HTTP/1.1\" 200 12\n",
      "127.0.0.1 - - [07/Oct/2018 18:49:49] \"GET /realtimefeed.dyn.html HTTP/1.1\" 200 12\n",
      "127.0.0.1 - - [07/Oct/2018 18:49:50] \"GET /running HTTP/1.1\" 200 12\n",
      "127.0.0.1 - - [07/Oct/2018 18:49:50] \"GET /favicon.ico HTTP/1.1\" 200 12\n"
     ]
    },
    {
     "name": "stdout",
     "output_type": "stream",
     "text": [
      "interrupted, server stopped.\n"
     ]
    }
   ],
   "source": [
    "try:\n",
    "    httpd.serve_forever()\n",
    "except KeyboardInterrupt:\n",
    "    print('interrupted, server stopped.')"
   ]
  },
  {
   "cell_type": "code",
   "execution_count": 6,
   "metadata": {},
   "outputs": [
    {
     "name": "stdout",
     "output_type": "stream",
     "text": [
      "Requirement already satisfied: gunicorn in /anaconda3/lib/python3.6/site-packages (19.9.0)\r\n"
     ]
    }
   ],
   "source": [
    "!pip install gunicorn"
   ]
  },
  {
   "cell_type": "markdown",
   "metadata": {},
   "source": [
    "Running the wsgi application using the gunicorn web server instead. (Google App Engine environments use this web server as a default, so its both popular and powerful)"
   ]
  },
  {
   "cell_type": "code",
   "execution_count": null,
   "metadata": {},
   "outputs": [],
   "source": [
    "# will run callable object `app` from main.py\n",
    "!gunicorn -b :8080 main:app"
   ]
  },
  {
   "cell_type": "markdown",
   "metadata": {},
   "source": [
    "\n",
    "### References:\n",
    "1. https://docs.python.org/3/library/http.server.html\n",
    "2. http://wsgi.tutorial.codepoint.net/\n",
    "3. http://wsgi.tutorial.codepoint.net/application-interface\n",
    "4. https://cloud.google.com/appengine/docs/standard/python3/testing-and-deploying-your-app\n",
    "5. https://wsgi.readthedocs.io/en/latest/what.html\n",
    "6. https://gunicorn.org\n",
    "7. https://docs.python.org/2/library/simplehttpserver.html\n",
    "8. https://docs.python.org/3.7/library/wsgiref.html"
   ]
  },
  {
   "cell_type": "markdown",
   "metadata": {},
   "source": [
    "@selfLink: https://github.com/swghosh/UG-Courses/blob/master/Others/SimpleWebServer.ipynb"
   ]
  }
 ],
 "metadata": {
  "kernelspec": {
   "display_name": "Python 3",
   "language": "python",
   "name": "python3"
  },
  "language_info": {
   "codemirror_mode": {
    "name": "ipython",
    "version": 3
   },
   "file_extension": ".py",
   "mimetype": "text/x-python",
   "name": "python",
   "nbconvert_exporter": "python",
   "pygments_lexer": "ipython3",
   "version": "3.6.5"
  }
 },
 "nbformat": 4,
 "nbformat_minor": 2
}
