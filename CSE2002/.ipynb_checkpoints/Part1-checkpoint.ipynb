{
 "cells": [
  {
   "cell_type": "code",
   "execution_count": 2,
   "metadata": {},
   "outputs": [],
   "source": [
    "%load_ext sql"
   ]
  },
  {
   "cell_type": "code",
   "execution_count": 5,
   "metadata": {},
   "outputs": [
    {
     "data": {
      "text/plain": [
       "'Connected: @cse2003'"
      ]
     },
     "execution_count": 5,
     "metadata": {},
     "output_type": "execute_result"
    }
   ],
   "source": [
    "%sql postgresql://localhost/cse2003"
   ]
  },
  {
   "cell_type": "markdown",
   "metadata": {},
   "source": [
    "# Data Definition Language (DDL)\n",
    "\n",
    "Simple SQL queries for DDL."
   ]
  },
  {
   "cell_type": "markdown",
   "metadata": {},
   "source": [
    "Create a table for storing student records."
   ]
  },
  {
   "cell_type": "code",
   "execution_count": 8,
   "metadata": {},
   "outputs": [
    {
     "name": "stdout",
     "output_type": "stream",
     "text": [
      " * postgresql://localhost/cse2003\n",
      "(psycopg2.ProgrammingError) relation \"students\" already exists\n",
      " [SQL: 'CREATE TABLE students (enrollnum NUMERIC(12) PRIMARY KEY, name VARCHAR(30), email VARCHAR(50), phone NUMERIC(10));'] (Background on this error at: http://sqlalche.me/e/f405)\n"
     ]
    }
   ],
   "source": [
    "%%sql\n",
    "CREATE TABLE students (enrollnum NUMERIC(12) PRIMARY KEY, name VARCHAR(30), email VARCHAR(50), phone NUMERIC(10));"
   ]
  },
  {
   "cell_type": "markdown",
   "metadata": {},
   "source": [
    "Equivalent of DESCRIBE <table_name>; for a pre-created table."
   ]
  },
  {
   "cell_type": "code",
   "execution_count": 7,
   "metadata": {},
   "outputs": [
    {
     "name": "stdout",
     "output_type": "stream",
     "text": [
      " * postgresql://localhost/cse2003\n",
      "4 rows affected.\n"
     ]
    },
    {
     "data": {
      "text/html": [
       "<table>\n",
       "    <tr>\n",
       "        <th>column_name</th>\n",
       "        <th>data_type</th>\n",
       "        <th>character_maximum_length</th>\n",
       "    </tr>\n",
       "    <tr>\n",
       "        <td>enrollnum</td>\n",
       "        <td>numeric</td>\n",
       "        <td>None</td>\n",
       "    </tr>\n",
       "    <tr>\n",
       "        <td>name</td>\n",
       "        <td>character varying</td>\n",
       "        <td>30</td>\n",
       "    </tr>\n",
       "    <tr>\n",
       "        <td>email</td>\n",
       "        <td>character varying</td>\n",
       "        <td>50</td>\n",
       "    </tr>\n",
       "    <tr>\n",
       "        <td>phone</td>\n",
       "        <td>numeric</td>\n",
       "        <td>None</td>\n",
       "    </tr>\n",
       "</table>"
      ],
      "text/plain": [
       "[('enrollnum', 'numeric', None),\n",
       " ('name', 'character varying', 30),\n",
       " ('email', 'character varying', 50),\n",
       " ('phone', 'numeric', None)]"
      ]
     },
     "execution_count": 7,
     "metadata": {},
     "output_type": "execute_result"
    }
   ],
   "source": [
    "%sql SELECT column_name, data_type, character_maximum_length FROM information_schema.COLUMNS WHERE TABLE_NAME = 'students';"
   ]
  },
  {
   "cell_type": "markdown",
   "metadata": {},
   "source": [
    "Create another table for storing courses data."
   ]
  },
  {
   "cell_type": "code",
   "execution_count": 10,
   "metadata": {},
   "outputs": [
    {
     "name": "stdout",
     "output_type": "stream",
     "text": [
      " * postgresql://localhost/cse2003\n",
      "Done.\n"
     ]
    },
    {
     "data": {
      "text/plain": [
       "[]"
      ]
     },
     "execution_count": 10,
     "metadata": {},
     "output_type": "execute_result"
    }
   ],
   "source": [
    "%sql CREATE TABLE courses (code VARCHAR(7), website VARCHAR(250), programme VARCHAR(10));"
   ]
  },
  {
   "cell_type": "markdown",
   "metadata": {},
   "source": [
    "Delete the entire table of courses."
   ]
  },
  {
   "cell_type": "code",
   "execution_count": 11,
   "metadata": {},
   "outputs": [
    {
     "name": "stdout",
     "output_type": "stream",
     "text": [
      " * postgresql://localhost/cse2003\n",
      "Done.\n"
     ]
    },
    {
     "data": {
      "text/plain": [
       "[]"
      ]
     },
     "execution_count": 11,
     "metadata": {},
     "output_type": "execute_result"
    }
   ],
   "source": [
    "%%sql\n",
    "DROP TABLE courses;"
   ]
  },
  {
   "cell_type": "markdown",
   "metadata": {},
   "source": [
    "## Data Manipulation Language\n",
    "Simple SQL queries for performing CRUD operations inside database tables.\n",
    "\n",
    "| Initial | Operation | SQL Keyword |\n",
    "| --- | --- | --- |\n",
    "| C | Create | INSERT |\n",
    "| R | Read | SELECT |\n",
    "| U | Update | UPDATE |\n",
    "| D | Delete | DELETE |"
   ]
  },
  {
   "cell_type": "code",
   "execution_count": 15,
   "metadata": {},
   "outputs": [
    {
     "name": "stdout",
     "output_type": "stream",
     "text": [
      " * postgresql://localhost/cse2003\n",
      "1 rows affected.\n"
     ]
    },
    {
     "data": {
      "text/plain": [
       "[]"
      ]
     },
     "execution_count": 15,
     "metadata": {},
     "output_type": "execute_result"
    }
   ],
   "source": [
    "%sql INSERT INTO students (enrollnum, name, email, phone) VALUES (170020203040, 'Swarup Ghosh', 'snwg@live.com', 8961517827);"
   ]
  },
  {
   "cell_type": "code",
   "execution_count": 16,
   "metadata": {},
   "outputs": [
    {
     "name": "stdout",
     "output_type": "stream",
     "text": [
      " * postgresql://localhost/cse2003\n",
      "1 rows affected.\n"
     ]
    },
    {
     "data": {
      "text/html": [
       "<table>\n",
       "    <tr>\n",
       "        <th>enrollnum</th>\n",
       "        <th>name</th>\n",
       "        <th>email</th>\n",
       "        <th>phone</th>\n",
       "    </tr>\n",
       "    <tr>\n",
       "        <td>170020203040</td>\n",
       "        <td>Swarup Ghosh</td>\n",
       "        <td>snwg@live.com</td>\n",
       "        <td>8961517827</td>\n",
       "    </tr>\n",
       "</table>"
      ],
      "text/plain": [
       "[(Decimal('170020203040'), 'Swarup Ghosh', 'snwg@live.com', Decimal('8961517827'))]"
      ]
     },
     "execution_count": 16,
     "metadata": {},
     "output_type": "execute_result"
    }
   ],
   "source": [
    "% sql SELECT * FROM students;"
   ]
  },
  {
   "cell_type": "code",
   "execution_count": 17,
   "metadata": {},
   "outputs": [
    {
     "name": "stdout",
     "output_type": "stream",
     "text": [
      " * postgresql://localhost/cse2003\n",
      "1 rows affected.\n"
     ]
    },
    {
     "data": {
      "text/plain": [
       "[]"
      ]
     },
     "execution_count": 17,
     "metadata": {},
     "output_type": "execute_result"
    }
   ],
   "source": [
    "%sql INSERT INTO students (enrollnum, name, email, phone) VALUES (1001, 'Student A', 'studentA@gdgu.org', 9009009009);"
   ]
  },
  {
   "cell_type": "code",
   "execution_count": 19,
   "metadata": {},
   "outputs": [
    {
     "name": "stdout",
     "output_type": "stream",
     "text": [
      " * postgresql://localhost/cse2003\n",
      "2 rows affected.\n"
     ]
    },
    {
     "data": {
      "text/plain": [
       "[]"
      ]
     },
     "execution_count": 19,
     "metadata": {},
     "output_type": "execute_result"
    }
   ],
   "source": [
    "%sql INSERT INTO students (enrollnum, name, email, phone) VALUES (1002, 'Student A', 'studentA@gdgu.org', 9009009009), (1003, 'Student B', 'studentB@gdgu.org', 9009009001);"
   ]
  },
  {
   "cell_type": "code",
   "execution_count": 20,
   "metadata": {},
   "outputs": [
    {
     "name": "stdout",
     "output_type": "stream",
     "text": [
      " * postgresql://localhost/cse2003\n",
      "4 rows affected.\n"
     ]
    },
    {
     "data": {
      "text/html": [
       "<table>\n",
       "    <tr>\n",
       "        <th>enrollnum</th>\n",
       "        <th>name</th>\n",
       "        <th>email</th>\n",
       "        <th>phone</th>\n",
       "    </tr>\n",
       "    <tr>\n",
       "        <td>170020203040</td>\n",
       "        <td>Swarup Ghosh</td>\n",
       "        <td>snwg@live.com</td>\n",
       "        <td>8961517827</td>\n",
       "    </tr>\n",
       "    <tr>\n",
       "        <td>1001</td>\n",
       "        <td>Student A</td>\n",
       "        <td>studentA@gdgu.org</td>\n",
       "        <td>9009009009</td>\n",
       "    </tr>\n",
       "    <tr>\n",
       "        <td>1002</td>\n",
       "        <td>Student A</td>\n",
       "        <td>studentA@gdgu.org</td>\n",
       "        <td>9009009009</td>\n",
       "    </tr>\n",
       "    <tr>\n",
       "        <td>1003</td>\n",
       "        <td>Student B</td>\n",
       "        <td>studentB@gdgu.org</td>\n",
       "        <td>9009009001</td>\n",
       "    </tr>\n",
       "</table>"
      ],
      "text/plain": [
       "[(Decimal('170020203040'), 'Swarup Ghosh', 'snwg@live.com', Decimal('8961517827')),\n",
       " (Decimal('1001'), 'Student A', 'studentA@gdgu.org', Decimal('9009009009')),\n",
       " (Decimal('1002'), 'Student A', 'studentA@gdgu.org', Decimal('9009009009')),\n",
       " (Decimal('1003'), 'Student B', 'studentB@gdgu.org', Decimal('9009009001'))]"
      ]
     },
     "execution_count": 20,
     "metadata": {},
     "output_type": "execute_result"
    }
   ],
   "source": [
    "%sql SELECT * FROM students;"
   ]
  },
  {
   "cell_type": "code",
   "execution_count": 23,
   "metadata": {},
   "outputs": [
    {
     "name": "stdout",
     "output_type": "stream",
     "text": [
      " * postgresql://localhost/cse2003\n",
      "3 rows affected.\n"
     ]
    },
    {
     "data": {
      "text/plain": [
       "[]"
      ]
     },
     "execution_count": 23,
     "metadata": {},
     "output_type": "execute_result"
    }
   ],
   "source": [
    "%sql UPDATE students SET enrollnum = (enrollnum - 1000 + 170020203040) WHERE enrollnum < 1050;"
   ]
  },
  {
   "cell_type": "code",
   "execution_count": 25,
   "metadata": {},
   "outputs": [
    {
     "name": "stdout",
     "output_type": "stream",
     "text": [
      " * postgresql://localhost/cse2003\n",
      "4 rows affected.\n"
     ]
    },
    {
     "data": {
      "text/html": [
       "<table>\n",
       "    <tr>\n",
       "        <th>enrollnum</th>\n",
       "        <th>name</th>\n",
       "        <th>email</th>\n",
       "        <th>phone</th>\n",
       "    </tr>\n",
       "    <tr>\n",
       "        <td>170020203040</td>\n",
       "        <td>Swarup Ghosh</td>\n",
       "        <td>snwg@live.com</td>\n",
       "        <td>8961517827</td>\n",
       "    </tr>\n",
       "    <tr>\n",
       "        <td>170020203041</td>\n",
       "        <td>Student A</td>\n",
       "        <td>studentA@gdgu.org</td>\n",
       "        <td>9009009009</td>\n",
       "    </tr>\n",
       "    <tr>\n",
       "        <td>170020203042</td>\n",
       "        <td>Student A</td>\n",
       "        <td>studentA@gdgu.org</td>\n",
       "        <td>9009009009</td>\n",
       "    </tr>\n",
       "    <tr>\n",
       "        <td>170020203043</td>\n",
       "        <td>Student B</td>\n",
       "        <td>studentB@gdgu.org</td>\n",
       "        <td>9009009001</td>\n",
       "    </tr>\n",
       "</table>"
      ],
      "text/plain": [
       "[(Decimal('170020203040'), 'Swarup Ghosh', 'snwg@live.com', Decimal('8961517827')),\n",
       " (Decimal('170020203041'), 'Student A', 'studentA@gdgu.org', Decimal('9009009009')),\n",
       " (Decimal('170020203042'), 'Student A', 'studentA@gdgu.org', Decimal('9009009009')),\n",
       " (Decimal('170020203043'), 'Student B', 'studentB@gdgu.org', Decimal('9009009001'))]"
      ]
     },
     "execution_count": 25,
     "metadata": {},
     "output_type": "execute_result"
    }
   ],
   "source": [
    "%sql SELECT * FROM students;"
   ]
  }
 ],
 "metadata": {
  "kernelspec": {
   "display_name": "Python 3",
   "language": "python",
   "name": "python3"
  },
  "language_info": {
   "codemirror_mode": {
    "name": "ipython",
    "version": 3
   },
   "file_extension": ".py",
   "mimetype": "text/x-python",
   "name": "python",
   "nbconvert_exporter": "python",
   "pygments_lexer": "ipython3",
   "version": "3.6.5"
  }
 },
 "nbformat": 4,
 "nbformat_minor": 2
}
